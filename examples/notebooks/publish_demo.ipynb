{
 "cells": [
  {
   "cell_type": "code",
   "execution_count": null,
   "metadata": {},
   "outputs": [],
   "source": [
    "import quest\n",
    "from paramnb import Widgets\n",
    "from pprint import pprint\n",
    "import warnings\n",
    "warnings.simplefilter('ignore')\n",
    "\n",
    "from plotly.offline import init_notebook_mode\n",
    "from plotly.offline import iplot\n",
    "import plotly.graph_objs as go\n",
    "\n",
    "init_notebook_mode(connected=True)"
   ]
  },
  {
   "cell_type": "markdown",
   "metadata": {},
   "source": [
    "# Query Quest for Available Data Providers"
   ]
  },
  {
   "cell_type": "code",
   "execution_count": null,
   "metadata": {},
   "outputs": [],
   "source": [
    "quest_providers = quest.api.get_providers()\n",
    "pprint(quest_providers)\n",
    "quest_publishers = quest.api.get_publishers()\n",
    "quest_publishers"
   ]
  },
  {
   "cell_type": "code",
   "execution_count": null,
   "metadata": {},
   "outputs": [],
   "source": [
    "quest_services = quest.api.get_services()\n",
    "pprint(quest_services)\n",
    "print(\"\\nNumber of services: \", len(quest_services))\n",
    "print(\"The one we want: \", quest_services[-1])"
   ]
  },
  {
   "cell_type": "markdown",
   "metadata": {},
   "source": [
    "# Query USGS Data Service for Data"
   ]
  },
  {
   "cell_type": "code",
   "execution_count": null,
   "metadata": {},
   "outputs": [],
   "source": [
    "# nwis_s_features = quest.api.get_features(quest_services[-1], filters={'bbox': [-91, 32.3, -90.8, 32.34]})\n",
    "cuahsi_features = quest.api.get_features(quest_services[0])\n",
    "# bbox ['long min', 'lat min', 'long max', 'lat max']\n",
    "# nwis_s_features\n",
    "cuahsi_features"
   ]
  },
  {
   "cell_type": "code",
   "execution_count": null,
   "metadata": {},
   "outputs": [],
   "source": [
    "# collection_name = 'nwis_demo'\n",
    "collection_name = 'the_demo2'\n",
    "if collection_name in quest.api.get_collections():\n",
    "    pass\n",
    "else:\n",
    "    quest.api.new_collection(collection_name)\n",
    "\n",
    "# collection_feature = quest.api.add_features('nwis_demo', nwis_s_features[0])\n",
    "collection_feature = quest.api.add_features('the_demo2', cuahsi_features[0])\n",
    "collection_feature"
   ]
  },
  {
   "cell_type": "code",
   "execution_count": null,
   "metadata": {},
   "outputs": [],
   "source": [
    "download_options = quest.api.download_options(collection_feature, fmt='param')[collection_feature[0]]\n",
    "download_options"
   ]
  },
  {
   "cell_type": "code",
   "execution_count": null,
   "metadata": {},
   "outputs": [],
   "source": [
    "Widgets(download_options)"
   ]
  },
  {
   "cell_type": "code",
   "execution_count": null,
   "metadata": {},
   "outputs": [],
   "source": [
    "options = {'parameter':download_options.parameter, \n",
    "           'start': download_options.start, \n",
    "           'end': download_options.end, \n",
    "           'period': download_options.period\n",
    "          }"
   ]
  },
  {
   "cell_type": "code",
   "execution_count": null,
   "metadata": {},
   "outputs": [],
   "source": [
    "# staged_id = quest.api.stage_for_download(collection_feature, options=options)\n",
    "staged_id = quest.api.stage_for_download(collection_feature, options=None)\n",
    "staged_id"
   ]
  },
  {
   "cell_type": "code",
   "execution_count": null,
   "metadata": {},
   "outputs": [],
   "source": [
    "quest.api.download_datasets(staged_id)"
   ]
  },
  {
   "cell_type": "code",
   "execution_count": null,
   "metadata": {},
   "outputs": [],
   "source": [
    "df = quest.api.open_dataset(staged_id[0])\n",
    "df.head()"
   ]
  },
  {
   "cell_type": "code",
   "execution_count": null,
   "metadata": {},
   "outputs": [],
   "source": [
    "parameter = df.metadata['parameter']\n",
    "data = [go.Scatter(\n",
    "          x=df.index,\n",
    "          y=df[parameter],\n",
    "          fill='tozeroy'\n",
    "    )]\n",
    "\n",
    "iplot(data)"
   ]
  },
  {
   "cell_type": "markdown",
   "metadata": {},
   "source": [
    "# Apply a Filter to Transform Downloaded "
   ]
  },
  {
   "cell_type": "code",
   "execution_count": null,
   "metadata": {},
   "outputs": [],
   "source": [
    "quest.api.get_filters(filters={'dataset': staged_id[0]})"
   ]
  },
  {
   "cell_type": "code",
   "execution_count": null,
   "metadata": {},
   "outputs": [],
   "source": [
    "filter_name = 'ts-resample'\n",
    "filter_options = quest.api.apply_filter_options(filter_name, fmt='param')"
   ]
  },
  {
   "cell_type": "code",
   "execution_count": null,
   "metadata": {},
   "outputs": [],
   "source": [
    "Widgets(filter_options)"
   ]
  },
  {
   "cell_type": "code",
   "execution_count": null,
   "metadata": {},
   "outputs": [],
   "source": [
    "options = {'dataset':filter_options.dataset, \n",
    "           'period': filter_options.period, \n",
    "           'method': filter_options.method, \n",
    "          }"
   ]
  },
  {
   "cell_type": "code",
   "execution_count": null,
   "metadata": {},
   "outputs": [],
   "source": [
    "new_dataset = quest.api.apply_filter(filter_name, options=options)['datasets'][0]"
   ]
  },
  {
   "cell_type": "code",
   "execution_count": null,
   "metadata": {},
   "outputs": [],
   "source": [
    "df = quest.api.open_dataset(new_dataset)\n",
    "df['date'] = df.index.to_timestamp()\n",
    "df.head()"
   ]
  },
  {
   "cell_type": "code",
   "execution_count": null,
   "metadata": {},
   "outputs": [],
   "source": [
    "parameter = df.metadata['parameter']\n",
    "data = [go.Scatter(\n",
    "          x=df['date'],\n",
    "          y=df[parameter],\n",
    "          fill='tozeroy'\n",
    "    )]\n",
    "\n",
    "iplot(data)"
   ]
  },
  {
   "cell_type": "markdown",
   "metadata": {},
   "source": [
    "# Publish New Dataset to Data Depot"
   ]
  },
  {
   "cell_type": "code",
   "execution_count": null,
   "metadata": {},
   "outputs": [],
   "source": [
    "quest.api.authenticate_provider('cuahsi-hydroshare')"
   ]
  },
  {
   "cell_type": "code",
   "execution_count": null,
   "metadata": {},
   "outputs": [],
   "source": [
    "publish_options = quest.api.get_publish_options('pub://cuahsi-hydroshare:hs_pub', fmt='param')['pub://cuahsi-hydroshare:hs_pub']"
   ]
  },
  {
   "cell_type": "code",
   "execution_count": null,
   "metadata": {},
   "outputs": [],
   "source": [
    "Widgets(publish_options)"
   ]
  },
  {
   "cell_type": "code",
   "execution_count": null,
   "metadata": {},
   "outputs": [],
   "source": [
    "new_publish_options = {'title': publish_options.title, \n",
    "                       'abstract': publish_options.abstract, \n",
    "                       'keywords': publish_options.keywords, \n",
    "                       'dataset': new_dataset}"
   ]
  },
  {
   "cell_type": "code",
   "execution_count": null,
   "metadata": {},
   "outputs": [],
   "source": [
    "quest.api.publish('pub://cuahsi-hs:hs_normal', options=new_publish_options)"
   ]
  }
 ],
 "metadata": {
  "kernelspec": {
   "display_name": "Python 3",
   "language": "python",
   "name": "python3"
  },
  "language_info": {
   "codemirror_mode": {
    "name": "ipython",
    "version": 3
   },
   "file_extension": ".py",
   "mimetype": "text/x-python",
   "name": "python",
   "nbconvert_exporter": "python",
   "pygments_lexer": "ipython3",
   "version": "3.6.5"
  }
 },
 "nbformat": 4,
 "nbformat_minor": 2
}
