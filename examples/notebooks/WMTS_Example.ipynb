{
 "cells": [
  {
   "cell_type": "markdown",
   "metadata": {},
   "source": [
    "This notebook demonstrates how to use Quest to download imagery from a Web Map Tile Service (WMTS).\n",
    "\n",
    "In addition to quest the following packages need to be installed to use this notebook:\n",
    " * holoviews\n",
    " * geoviews\n",
    " * param\n",
    " * paramnb\n",
    " * xarray\n",
    " \n",
    "The can be installed with the following command:\n",
    "```\n",
    "conda install -c conda-forge -c pyviz/label/dev holoviews geoviews param paramnb xarray\n",
    "```"
   ]
  },
  {
   "cell_type": "code",
   "execution_count": null,
   "metadata": {},
   "outputs": [],
   "source": [
    "import quest\n",
    "import param\n",
    "import xarray as xr\n",
    "import geoviews as gv\n",
    "import holoviews as hv\n",
    "from holoviews.streams import BoxEdit\n",
    "from cartopy import crs as ccrs\n",
    "from paramnb import Widgets\n",
    "\n",
    "hv.extension('bokeh')"
   ]
  },
  {
   "cell_type": "code",
   "execution_count": null,
   "metadata": {},
   "outputs": [],
   "source": [
    "quest_service = 'svc://wmts:seamless_imagery'\n",
    "tile_service_options = quest.api.download_options(quest_service, fmt='param')[quest_service]\n",
    "tile_service_options.params()['bbox'].precedence = -1  # hide bbox input\n",
    "Widgets(tile_service_options)"
   ]
  },
  {
   "cell_type": "code",
   "execution_count": null,
   "metadata": {},
   "outputs": [],
   "source": [
    "tiles = gv.WMTS(tile_service_options.url, extents=(-180, -80, 180, 80), \n",
    "                crs=ccrs.PlateCarree()).options(width=950, height=600)\n",
    "boxes = gv.Polygons([], crs=ccrs.PlateCarree()).options(fill_alpha=0.4, color='blue', \n",
    "                                                        line_color='blue', line_width=2)\n",
    "box_stream = BoxEdit(source=boxes)\n",
    "tiles * boxes"
   ]
  },
  {
   "cell_type": "code",
   "execution_count": null,
   "metadata": {},
   "outputs": [],
   "source": [
    "if box_stream.element:\n",
    "    xs, ys = box_stream.element.array().T\n",
    "    bbox = list(gv.util.project_extents((xs[0], ys[0], xs[2], ys[1]), ccrs.GOOGLE_MERCATOR, ccrs.PlateCarree()))\n",
    "else:\n",
    "    bbox = [-72.43925984610391, 45.8471360126193, -68.81252476472281, 47.856449699679516]\n",
    "tile_service_options.bbox = bbox\n",
    "print(bbox)"
   ]
  },
  {
   "cell_type": "code",
   "execution_count": null,
   "metadata": {},
   "outputs": [],
   "source": [
    "basemap_features = quest.api.get_features(quest_service)\n",
    "collection_name = 'examples'\n",
    "if collection_name in quest.api.get_collections():\n",
    "    pass\n",
    "else:\n",
    "    quest.api.new_collection(collection_name)\n",
    "\n",
    "collection_feature = quest.api.add_features(collection_name, basemap_features[0])\n",
    "options = dict(tile_service_options.param.get_param_values())\n",
    "staged_id = quest.api.stage_for_download(collection_feature, options=options)[0]\n",
    "quest.api.download_datasets(staged_id, raise_on_error=True)\n",
    "meta = quest.api.get_metadata(staged_id)[staged_id]\n",
    "meta"
   ]
  },
  {
   "cell_type": "code",
   "execution_count": null,
   "metadata": {},
   "outputs": [],
   "source": [
    "path = meta['file_path']\n",
    "arr = xr.open_rasterio(path)\n",
    "image = gv.RGB((arr.x, arr.y, arr[0].values, \n",
    "        arr[1].values, arr[2].values), \n",
    "       vdims=['R', 'G', 'B']).options(width=950, height=600)\n",
    "gv.tile_sources.Wikipedia * image"
   ]
  },
  {
   "cell_type": "code",
   "execution_count": null,
   "metadata": {},
   "outputs": [],
   "source": []
  }
 ],
 "metadata": {
  "kernelspec": {
   "display_name": "Python 3",
   "language": "python",
   "name": "python3"
  },
  "language_info": {
   "codemirror_mode": {
    "name": "ipython",
    "version": 3
   },
   "file_extension": ".py",
   "mimetype": "text/x-python",
   "name": "python",
   "nbconvert_exporter": "python",
   "pygments_lexer": "ipython3",
   "version": "3.6.6"
  }
 },
 "nbformat": 4,
 "nbformat_minor": 2
}
