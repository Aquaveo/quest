{
 "cells": [
  {
   "cell_type": "markdown",
   "metadata": {},
   "source": [
    "This notebook demonstrates how to use Quest to download imagery from a Web Map Tile Service (WMTS).\n",
    "\n",
    "In addition to quest the following packages need to be installed to use this notebook:\n",
    " * holoviews\n",
    " * geoviews\n",
    " * param\n",
    " * paramnb\n",
    " * xarray\n",
    " \n",
    "The can be installed with the following command:\n",
    "```\n",
    "conda install -c conda-forge -c pyviz/label/dev holoviews geoviews param paramnb xarray\n",
    "```"
   ]
  },
  {
   "cell_type": "code",
   "execution_count": null,
   "metadata": {},
   "outputs": [],
   "source": [
    "import param\n",
    "import quest\n",
    "import geoviews as gv\n",
    "import holoviews as hv\n",
    "import xarray as xr\n",
    "from cartopy import crs as ccrs\n",
    "from holoviews.streams import BoxEdit\n",
    "from parambokeh import Widgets\n",
    "\n",
    "hv.extension('bokeh')"
   ]
  },
  {
   "cell_type": "code",
   "execution_count": null,
   "metadata": {},
   "outputs": [],
   "source": [
    "quest_service = 'svc://wmts:seamless_imagery'\n",
    "tile_service_options = quest.api.get_download_options(quest_service, fmt='param')[quest_service]\n",
    "tile_service_options.params()['bbox'].precedence = -1  # hide bbox input\n",
    "Widgets(tile_service_options)"
   ]
  },
  {
   "cell_type": "code",
   "execution_count": null,
   "metadata": {},
   "outputs": [],
   "source": [
    "tiles = gv.WMTS(tile_service_options.url).options(width=950, height=600, global_extent=True)\n",
    "boxes = gv.Polygons([]).options(fill_alpha=0.4, line_width=2)\n",
    "box_stream = BoxEdit(source=boxes, num_objects=1)\n",
    "tiles * boxes"
   ]
  },
  {
   "cell_type": "code",
   "execution_count": null,
   "metadata": {},
   "outputs": [],
   "source": [
    "if box_stream.element:\n",
    "    data = box_stream.data\n",
    "    bbox = [data['x0'][0], data['y0'][0], data['x1'][0], data['y1'][0]]\n",
    "else:\n",
    "    bbox = [-72.43925984610391, 45.8471360126193, -68.81252476472281, 47.856449699679516]\n",
    "#     bbox = [-83.28613682601174, 24.206059963486737, -81.93264005405752, 30.251169660148314]\n",
    "#     bbox = [-81.82408198648336, 25.227665888548458, -80.86355086047537, 31.548730116206755]\n",
    "print(bbox)\n",
    "tile_service_options.bbox = bbox"
   ]
  },
  {
   "cell_type": "code",
   "execution_count": null,
   "metadata": {},
   "outputs": [],
   "source": [
    "arr = quest.api.get_data(\n",
    "    service_uri=quest_service,\n",
    "    search_filters=None,\n",
    "    download_options=tile_service_options,\n",
    "    collection_name='examples',\n",
    "    use_cache=False,\n",
    "    as_open_datasets=True,\n",
    ")[0]"
   ]
  },
  {
   "cell_type": "code",
   "execution_count": null,
   "metadata": {},
   "outputs": [],
   "source": [
    "image = gv.RGB((arr.x, arr.y, arr[0].values, \n",
    "        arr[1].values, arr[2].values), \n",
    "       vdims=['R', 'G', 'B']).options(width=950, height=600, alpha=0.7)\n",
    "gv.tile_sources.Wikipedia * image"
   ]
  },
  {
   "cell_type": "code",
   "execution_count": null,
   "metadata": {},
   "outputs": [],
   "source": []
  },
  {
   "cell_type": "code",
   "execution_count": null,
   "metadata": {},
   "outputs": [],
   "source": []
  }
 ],
 "metadata": {
  "kernelspec": {
   "display_name": "Python 3",
   "language": "python",
   "name": "python3"
  },
  "language_info": {
   "codemirror_mode": {
    "name": "ipython",
    "version": 3
   },
   "file_extension": ".py",
   "mimetype": "text/x-python",
   "name": "python",
   "nbconvert_exporter": "python",
   "pygments_lexer": "ipython3",
   "version": "3.6.6"
  }
 },
 "nbformat": 4,
 "nbformat_minor": 2
}
