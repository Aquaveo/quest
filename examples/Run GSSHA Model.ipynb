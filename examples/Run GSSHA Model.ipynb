{
 "cells": [
  {
   "cell_type": "markdown",
   "metadata": {},
   "source": [
    "Install GSSHApy development version: https://github.com/ci-water/gsshapy"
   ]
  },
  {
   "cell_type": "code",
   "execution_count": 1,
   "metadata": {},
   "outputs": [
    {
     "name": "stderr",
     "output_type": "stream",
     "text": [
      "/home/rdchlads/anaconda3/envs/g3/lib/python3.6/site-packages/xarray/core/formatting.py:16: FutureWarning: The pandas.tslib module is deprecated and will be removed in a future version.\n",
      "  from pandas.tslib import OutOfBoundsDatetime\n"
     ]
    }
   ],
   "source": [
    "from datetime import datetime, timedelta\n",
    "from gsshapy.modeling import GSSHAFramework"
   ]
  },
  {
   "cell_type": "code",
   "execution_count": 2,
   "metadata": {},
   "outputs": [],
   "source": [
    "base_gssha_model_directory = '/home/rdchlads/scripts/quest/examples/vicksburg_south'\n",
    "gssha_model_name = 'vicksburg_south'\n",
    "\n",
    "gr = GSSHAFramework(\"gssha\",\n",
    "                    base_gssha_model_directory,\n",
    "                    \"{0}.prj\".format(gssha_model_name),\n",
    "                    gssha_simulation_start=datetime(2017, 5 ,9),\n",
    "                    gssha_simulation_duration=timedelta(seconds=2*60))\n",
    "\n",
    "# http://www.gsshawiki.com/Model_Construction:Defining_a_uniform_precipitation_event\n",
    "rain_intensity = 24  # mm/hr \n",
    "rain_duration = timedelta(seconds=1*60)  # 2 minutes\n",
    "gr.event_manager.add_uniform_precip_event(rain_intensity,\n",
    "                                          rain_duration)\n",
    "\n",
    "gssha_event_directory = gr.run()"
   ]
  },
  {
   "cell_type": "markdown",
   "metadata": {
    "collapsed": true
   },
   "source": [
    "The `gssha_event_directory` is where the simulation output is stored."
   ]
  },
  {
   "cell_type": "code",
   "execution_count": 4,
   "metadata": {},
   "outputs": [
    {
     "data": {
      "text/plain": [
       "'/home/rdchlads/scripts/quest/examples/vicksburg_south/run_201705090000to201705090002_1'"
      ]
     },
     "execution_count": 4,
     "metadata": {},
     "output_type": "execute_result"
    }
   ],
   "source": [
    "gssha_event_directory"
   ]
  },
  {
   "cell_type": "code",
   "execution_count": null,
   "metadata": {
    "collapsed": true
   },
   "outputs": [],
   "source": []
  }
 ],
 "metadata": {
  "kernelspec": {
   "display_name": "Python 3",
   "language": "python",
   "name": "python3"
  },
  "language_info": {
   "codemirror_mode": {
    "name": "ipython",
    "version": 3
   },
   "file_extension": ".py",
   "mimetype": "text/x-python",
   "name": "python",
   "nbconvert_exporter": "python",
   "pygments_lexer": "ipython3",
   "version": "3.6.1"
  }
 },
 "nbformat": 4,
 "nbformat_minor": 2
}
