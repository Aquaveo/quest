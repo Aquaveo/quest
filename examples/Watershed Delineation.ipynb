{
 "cells": [
  {
   "cell_type": "code",
   "execution_count": null,
   "metadata": {
    "collapsed": true
   },
   "outputs": [],
   "source": [
    "%matplotlib inline\n",
    "import quest\n",
    "import numpy as np \n",
    "from matplotlib import colors, cm, pyplot as plt\n",
    "from gazar import grid"
   ]
  },
  {
   "cell_type": "code",
   "execution_count": null,
   "metadata": {
    "collapsed": true
   },
   "outputs": [],
   "source": [
    "VICKSBURG = 'vicksburg'\n",
    "PROVO = 'provo'\n",
    "\n",
    "location = PROVO\n",
    "# location = VICKSBURG\n",
    "\n",
    "SERVICE = 'svc://usgs-ned:13-arc-second'\n",
    "\n",
    "BBOXES = {VICKSBURG: [-90.9, 32.2, -90.8, 32.3],\n",
    "          PROVO: [-111.6, 40.0, -111.4, 40.15]\n",
    "         }\n",
    "\n",
    "OUTLETS = {VICKSBURG: (-90.885, 32.2158), # (-90.889, 32.2133) Move point out of Mississippi River,\n",
    "           PROVO: (-111.44851851851851, 40.0787962962963),\n",
    "          }\n",
    "\n",
    "#service_feature = SERVICE_FEATURES[location]\n",
    "bbox = BBOXES[location]\n",
    "outlet_point = [OUTLETS[location]]"
   ]
  },
  {
   "cell_type": "code",
   "execution_count": null,
   "metadata": {},
   "outputs": [],
   "source": [
    "choice = input('Reuse existing downloads (y/n):')"
   ]
  },
  {
   "cell_type": "code",
   "execution_count": null,
   "metadata": {
    "collapsed": true
   },
   "outputs": [],
   "source": [
    "# Delete all collections\n",
    "# for collection in quest.api.get_collections():\n",
    "#   quest.api.delete(collection)"
   ]
  },
  {
   "cell_type": "code",
   "execution_count": null,
   "metadata": {
    "collapsed": true
   },
   "outputs": [],
   "source": [
    "# create new collection\n",
    "# Avoid re-downloading elevation data if already present \n",
    "collection = 'watershed_delineation_' + location\n",
    "if choice.lower()=='n':\n",
    "    if collection in quest.api.get_collections():\n",
    "        quest.api.delete(collection)"
   ]
  },
  {
   "cell_type": "code",
   "execution_count": null,
   "metadata": {},
   "outputs": [],
   "source": [
    "elev_name = 'merged elevation raster ' + location\n",
    "elevation = quest.api.get_datasets(filters={'display_name': elev_name})\n",
    "print(elevation)\n",
    "\n",
    "if not elevation:\n",
    "    try:\n",
    "        quest.api.new_collection(collection)\n",
    "    except ValueError:\n",
    "        quest.api.delete(collection)\n",
    "        quest.api.new_collection(collection)\n",
    "\n",
    "    # download elevation data\n",
    "    elevation_tiles = quest.api.get_features('svc://usgs-ned:13-arc-second', filters={'bbox': bbox})\n",
    "    print('Selected tiles:', elevation_tiles)\n",
    "    elevation_tiles = quest.api.add_features(collection, elevation_tiles)\n",
    "    datasets = quest.api.stage_for_download(elevation_tiles)\n",
    "    print('start download -->')\n",
    "    quest.api.download_datasets(datasets)\n",
    "    print('start merge -->')\n",
    "    result = quest.api.apply_filter('raster-merge', datasets=datasets, options={'bbox': bbox}, display_name=elev_name)\n",
    "    elevation = result['datasets'][0]\n",
    "    print('merged elevation tile:', elevation)"
   ]
  },
  {
   "cell_type": "code",
   "execution_count": null,
   "metadata": {},
   "outputs": [],
   "source": [
    "# run pit filling algorithm\n",
    "algorithm = 'go-fill'  # one of ['flats', 'go-fill', 'go-breach']\n",
    "result = quest.api.apply_filter('raster-fill', datasets=elevation, options={'algorithm': algorithm})\n",
    "pit_filled = result['datasets'][0]"
   ]
  },
  {
   "cell_type": "code",
   "execution_count": null,
   "metadata": {},
   "outputs": [],
   "source": [
    "# run flow accumulation\n",
    "algorithm = 'go-d8'  # one of ['d8', 'go-d8', 'go-fd8']\n",
    "result = quest.api.apply_filter('raster-flow-accumulation', datasets=pit_filled, options={'algorithm': algorithm})\n",
    "flow_accumulation_dataset_id = result['datasets'][0]"
   ]
  },
  {
   "cell_type": "code",
   "execution_count": null,
   "metadata": {},
   "outputs": [],
   "source": [
    "# read & plot in flow accumulation\n",
    "flow_accumulation_dataset_file = quest.api.get_metadata(flow_accumulation_dataset_id)[flow_accumulation_dataset_id]['file_path']\n",
    "flow_accumulation_dataset = grid.GDALGrid(flow_accumulation_dataset_file)\n",
    "flow_accumulation_data = flow_accumulation_dataset.np_array()\n",
    "plt.imshow(flow_accumulation_data, cmap=cm.terrain, norm=colors.LogNorm())"
   ]
  },
  {
   "cell_type": "code",
   "execution_count": null,
   "metadata": {},
   "outputs": [],
   "source": [
    "result = quest.api.apply_filter('raster-watershed-snap-outlet', datasets=flow_accumulation_dataset_id, \n",
    "                       options={'outlet_points': outlet_point, 'snap_outlets': 'jenson', 'stream_threshold_pct': 0.01})\n",
    "snapped_outlet = result['features']['outlet']"
   ]
  },
  {
   "cell_type": "code",
   "execution_count": null,
   "metadata": {},
   "outputs": [],
   "source": [
    "snapped_outlet"
   ]
  },
  {
   "cell_type": "code",
   "execution_count": null,
   "metadata": {},
   "outputs": [],
   "source": [
    "result = quest.api.apply_filter('raster-watershed-delineation', datasets=pit_filled, features=[snapped_outlet])\n",
    "watershed = result['features']['watershed']\n",
    "outlet = result['features']['outlet']\n",
    "watershed_geometry = quest.api.get_metadata(watershed)[watershed]['geometry']\n",
    "outlet_lon, outlet_lat = np.array(quest.api.get_metadata(outlet)[outlet]['geometry'].coords.xy).squeeze().tolist()\n",
    "print(watershed_geometry.area)\n",
    "watershed_geometry"
   ]
  },
  {
   "cell_type": "code",
   "execution_count": null,
   "metadata": {
    "collapsed": true
   },
   "outputs": [],
   "source": [
    "# read in elevation data\n",
    "dem_file = quest.api.get_metadata(elevation[0])[elevation[0]]['file_path']\n",
    "dem = grid.GDALGrid(dem_file)\n",
    "lat, lon = dem.latlon"
   ]
  },
  {
   "cell_type": "code",
   "execution_count": null,
   "metadata": {},
   "outputs": [],
   "source": [
    "# plot outlet pixel and river network\n",
    "window = 200\n",
    "stream_threshold = flow_accumulation_data.max() * 0.01\n",
    "rivers = np.ma.masked_where(flow_accumulation_data < stream_threshold, flow_accumulation_data)\n",
    "fig, ax = plt.subplots()\n",
    "ax.imshow(np.flip(dem.np_array(), 0))\n",
    "plt.imshow(np.flip(rivers, 0), cmap=cm.gray_r, norm=colors.LogNorm(), origin=\"lower\")\n",
    "outlet_col, outlet_row = flow_accumulation_dataset.lonlat2pixel(outlet_lon, outlet_lat)\n",
    "ax.scatter(x=outlet_col, y=rivers.shape[0] - outlet_row, s=50, color='red')\n",
    "ax.set_xlim((outlet_col-window,outlet_col+window))\n",
    "ax.set_ylim((outlet_row-window,outlet_row+window))"
   ]
  },
  {
   "cell_type": "code",
   "execution_count": null,
   "metadata": {},
   "outputs": [],
   "source": [
    "import cartopy.crs as ccrs\n",
    "import cartopy.feature as cfeature\n",
    "from cartopy.mpl.gridliner import LONGITUDE_FORMATTER, LATITUDE_FORMATTER\n",
    "\n",
    "xmin, ymin, xmax, ymax = bbox\n",
    "display_bbox = [xmin, xmax, ymin, ymax]\n",
    "graticule_spacing = 0.01\n",
    "\n",
    "fig = plt.figure(figsize=(10, 10))\n",
    "ax = plt.axes(projection=ccrs.PlateCarree())\n",
    "ax.set_extent(display_bbox)\n",
    "\n",
    "gl = ax.gridlines(crs=ccrs.PlateCarree(), draw_labels=True,\n",
    "                  linewidth=2, color='gray', alpha=0.5, linestyle='--')\n",
    "gl.xformatter = LONGITUDE_FORMATTER\n",
    "gl.yformatter = LATITUDE_FORMATTER\n",
    "gl.xlabels_top = False\n",
    "\n",
    "plt.contourf(lon, lat, dem.np_array(), 100, zorder=2, cmap=cm.terrain, transform=ccrs.PlateCarree())\n",
    "ax.imshow(rivers, cmap=cm.ocean, origin='lower', zorder=3)\n",
    "watershed_shp = cfeature.ShapelyFeature([watershed_geometry], ccrs.PlateCarree())\n",
    "ax.add_feature(watershed_shp, zorder=4, alpha=0.6)\n",
    "ax.scatter(x=outlet_lon, y=outlet_lat, color='red', zorder=5, transform=ccrs.PlateCarree())\n",
    "ax.scatter(x=-90.885, y=32.2158, color='blue', zorder=5, transform=ccrs.PlateCarree())\n",
    "plt.title(\"Watershed\")\n",
    "plt.show()"
   ]
  },
  {
   "cell_type": "code",
   "execution_count": null,
   "metadata": {
    "collapsed": true
   },
   "outputs": [],
   "source": []
  }
 ],
 "metadata": {
  "kernelspec": {
   "display_name": "Python 3",
   "language": "python",
   "name": "python3"
  },
  "language_info": {
   "codemirror_mode": {
    "name": "ipython",
    "version": 3
   },
   "file_extension": ".py",
   "mimetype": "text/x-python",
   "name": "python",
   "nbconvert_exporter": "python",
   "pygments_lexer": "ipython3",
   "version": "3.5.3"
  }
 },
 "nbformat": 4,
 "nbformat_minor": 2
}
