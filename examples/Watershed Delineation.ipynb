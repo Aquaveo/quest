{
 "cells": [
  {
   "cell_type": "code",
   "execution_count": null,
   "metadata": {
    "collapsed": true
   },
   "outputs": [],
   "source": [
    "%matplotlib inline\n",
    "import quest\n",
    "import numpy as np \n",
    "from matplotlib import colors, cm, pyplot as plt\n",
    "from gazar import grid"
   ]
  },
  {
   "cell_type": "code",
   "execution_count": null,
   "metadata": {
    "collapsed": true
   },
   "outputs": [],
   "source": [
    "VICKSBURG = 'Vicksburg'\n",
    "PROVO = 'Provo'\n",
    "\n",
    "location = PROVO\n",
    "# location = VICKSBURG\n",
    "\n",
    "SERVICE_FEATURES = {VICKSBURG: 'svc://usgs-ned:13-arc-second/581d213be4b08da350d52d69', #581d213be4b08da350d52d67',\n",
    "                    PROVO: 'svc://usgs-ned:13-arc-second/581d2162e4b08da350d5325e'\n",
    "                    }\n",
    "BBOXES = {VICKSBURG: [-90.9, -90.8, 32.2, 32.3],\n",
    "          PROVO: [-111.6, -111.4, 40.0, 40.15]\n",
    "         }\n",
    "\n",
    "OUTLETS = {VICKSBURG: (-90.889, 32.2133),\n",
    "           PROVO: (-111.44851851851851, 40.0787962962963),\n",
    "          }\n",
    "\n",
    "service_feature = SERVICE_FEATURES[location]\n",
    "bbox = BBOXES[location]\n",
    "outlets = [OUTLETS[location]]"
   ]
  },
  {
   "cell_type": "code",
   "execution_count": null,
   "metadata": {},
   "outputs": [],
   "source": [
    "# create new collection\n",
    "# Avoid re-downloading elevation data if already present \n",
    "collection = 'watershed_delineation'\n",
    "elev_name = 'merged elevation raster ' + location\n",
    "elevation = quest.api.get_datasets(filters={'display_name': elev_name})\n",
    "\n",
    "if not elevation:\n",
    "    try:\n",
    "        quest.api.new_collection(collection)\n",
    "    except ValueError:\n",
    "        quest.api.delete(collection)\n",
    "        quest.api.new_collection(collection)\n",
    "\n",
    "    # download elevation data\n",
    "    feature = quest.api.add_features(collection, service_feature)\n",
    "    dataset = quest.api.stage_for_download(feature)\n",
    "    quest.api.download_datasets(dataset)\n",
    "    result = quest.api.apply_filter('raster-merge', datasets=dataset, options={'bbox': bbox}, display_name=elev_name)\n",
    "    elevation = result['datasets'][0]"
   ]
  },
  {
   "cell_type": "code",
   "execution_count": null,
   "metadata": {},
   "outputs": [],
   "source": [
    "# run pit filling algorithm\n",
    "algorithm = 'go-fill'  # one of ['flats', 'go-fill', 'go-breach']\n",
    "result = quest.api.apply_filter('raster-fill', datasets=elevation, options={'algorithm': algorithm})\n",
    "elevation = result['datasets'][0]"
   ]
  },
  {
   "cell_type": "code",
   "execution_count": null,
   "metadata": {},
   "outputs": [],
   "source": [
    "# run flow accumulation\n",
    "algorithm = 'go-d8'  # one of ['d8', 'go-d8', 'go-fd8']\n",
    "result = quest.api.apply_filter('raster-flow-accumulation', datasets=elevation, options={'algorithm': algorithm})\n",
    "flow_accumulation_dataset_id = result['datasets'][0]"
   ]
  },
  {
   "cell_type": "code",
   "execution_count": null,
   "metadata": {},
   "outputs": [],
   "source": [
    "# read in flow accumulation\n",
    "flow_accumulation_dataset_file = quest.api.get_metadata(flow_accumulation_dataset_id)[flow_accumulation_dataset_id]['file_path']\n",
    "flow_accumulation_dataset = grid.GDALGrid(flow_accumulation_dataset_file)\n",
    "flow_accumulation_data = flow_accumulation_dataset.np_array()\n",
    "\n",
    "max_accumulation = flow_accumulation_data.max()\n",
    "stream_threshold = max_accumulation * 0.01\n",
    "rivers = np.ma.masked_where(flow_accumulation_data < stream_threshold, flow_accumulation_data)"
   ]
  },
  {
   "cell_type": "code",
   "execution_count": null,
   "metadata": {
    "collapsed": true
   },
   "outputs": [],
   "source": [
    "# read in elevation data\n",
    "dem_file = quest.api.get_metadata(elevation)[elevation]['file_path']\n",
    "dem = grid.GDALGrid(dem_file)\n",
    "lat, lon = dem.latlon"
   ]
  },
  {
   "cell_type": "code",
   "execution_count": null,
   "metadata": {},
   "outputs": [],
   "source": [
    "result = quest.api.apply_filter('raster-watershed-delineation', datasets=elevation, \n",
    "                       options={'outlet_points': outlets, 'snap_outlets': 'jenson', 'stream_threshold_pct': 0.01})\n",
    "watershed = result['features']['watershed']\n",
    "outlet = result['features']['outlet']\n",
    "watershed_geometry = quest.api.get_metadata(watershed)[watershed]['geometry']\n",
    "outlet_lon, outlet_lat = quest.api.get_metadata(outlet)[outlet]['geometry'].coords.xy\n",
    "print(watershed_geometry.area)\n",
    "watershed_geometry"
   ]
  },
  {
   "cell_type": "code",
   "execution_count": null,
   "metadata": {},
   "outputs": [],
   "source": [
    "import cartopy.crs as ccrs\n",
    "import cartopy.feature as cfeature\n",
    "from cartopy.mpl.gridliner import LONGITUDE_FORMATTER, LATITUDE_FORMATTER\n",
    "\n",
    "display_bbox = bbox\n",
    "graticule_spacing = 0.01\n",
    "\n",
    "fig = plt.figure(figsize=(10, 10))\n",
    "ax = plt.axes(projection=ccrs.PlateCarree())\n",
    "ax.set_extent(display_bbox)\n",
    "\n",
    "gl = ax.gridlines(crs=ccrs.PlateCarree(), draw_labels=True,\n",
    "                  linewidth=2, color='gray', alpha=0.5, linestyle='--')\n",
    "gl.xformatter = LONGITUDE_FORMATTER\n",
    "gl.yformatter = LATITUDE_FORMATTER\n",
    "gl.xlabels_top = False\n",
    "\n",
    "plt.contourf(lon, lat, dem.np_array(), 100, zorder=2, cmap=cm.terrain, transform=ccrs.PlateCarree())\n",
    "ax.imshow(rivers, cmap=cm.ocean, origin='lower', zorder=3)\n",
    "watershed_shp = cfeature.ShapelyFeature([watershed_geometry], ccrs.PlateCarree())\n",
    "ax.add_feature(watershed_shp, zorder=4, alpha=0.6)\n",
    "ax.scatter(x=outlet_lon, y=outlet_lat, color='red', zorder=5, transform=ccrs.PlateCarree())\n",
    "plt.title(\"Watershed\")\n",
    "plt.show()"
   ]
  },
  {
   "cell_type": "code",
   "execution_count": null,
   "metadata": {
    "collapsed": true
   },
   "outputs": [],
   "source": []
  }
 ],
 "metadata": {
  "kernelspec": {
   "display_name": "Python 3",
   "language": "python",
   "name": "python3"
  },
  "language_info": {
   "codemirror_mode": {
    "name": "ipython",
    "version": 3
   },
   "file_extension": ".py",
   "mimetype": "text/x-python",
   "name": "python",
   "nbconvert_exporter": "python",
   "pygments_lexer": "ipython3",
   "version": "3.5.3"
  }
 },
 "nbformat": 4,
 "nbformat_minor": 2
}
