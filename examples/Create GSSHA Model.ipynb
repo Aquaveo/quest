{
 "cells": [
  {
   "cell_type": "markdown",
   "metadata": {},
   "source": [
    "Install GSSHApy development version: https://github.com/ci-water/gsshapy"
   ]
  },
  {
   "cell_type": "code",
   "execution_count": 15,
   "metadata": {
    "collapsed": true
   },
   "outputs": [],
   "source": [
    "from datetime import datetime, timedelta\n",
    "import os\n",
    "\n",
    "import geopandas as gpd\n",
    "from gsshapy.modeling import GSSHAModel\n",
    "import quest"
   ]
  },
  {
   "cell_type": "markdown",
   "metadata": {},
   "source": [
    "Function to automate the downloading process:"
   ]
  },
  {
   "cell_type": "code",
   "execution_count": 2,
   "metadata": {
    "collapsed": true
   },
   "outputs": [],
   "source": [
    "def download_data(source_uri, bounds, collection_name):\n",
    "    \"\"\"\n",
    "    Downloads data from source uri and adds to collection\n",
    "    \"\"\"\n",
    "    features = quest.api.get_features(uris=source_uri,\n",
    "                                      filters={'bbox': bounds},\n",
    "                                      as_dataframe=True,\n",
    "                                      )\n",
    "    added_features = quest.api.add_features(collection_name, features)\n",
    "    staged_datasets = quest.api.stage_for_download(uris=added_features)\n",
    "    quest.api.download_datasets(datasets=staged_datasets)\n",
    "    final_datasets = staged_datasets\n",
    "    if len(staged_datasets) > 1:\n",
    "        merged_datasets = quest.api.apply_filter(name='raster-merge',\n",
    "                                                 datasets=staged_datasets)\n",
    "        final_datasets = merged_datasets['datasets']\n",
    "        # delete merged datasets\n",
    "        quest.api.delete(staged_datasets)\n",
    "\n",
    "    downloaded_datasets = quest.api.get_metadata(final_datasets)\n",
    "    downloaded_file_paths = [dataset['file_path'] for dataset\n",
    "                             in downloaded_datasets.values()]\n",
    "    return downloaded_file_paths[0]"
   ]
  },
  {
   "cell_type": "markdown",
   "metadata": {},
   "source": [
    "Parameters to change for the run:"
   ]
  },
  {
   "cell_type": "code",
   "execution_count": 13,
   "metadata": {
    "collapsed": true
   },
   "outputs": [],
   "source": [
    "elevation_service = 'svc://usgs-ned:13-arc-second'\n",
    "land_use_service = 'svc://usgs-nlcd:2011'\n",
    "land_use_grid_id = 'nlcd'\n",
    "base_dir = '/home/rdchlads/scripts/quest/examples'\n",
    "boundary_shapefile = os.path.join(base_dir, 'vicksburg_watershed', 'watershed_boundary.shp')\n",
    "gssha_model_name = 'vicksburg_south'\n",
    "gssha_model_directory = os.path.join(base_dir, gssha_model_name)"
   ]
  },
  {
   "cell_type": "markdown",
   "metadata": {},
   "source": [
    "Get the download boundary from the shapefile:"
   ]
  },
  {
   "cell_type": "code",
   "execution_count": 4,
   "metadata": {
    "collapsed": true
   },
   "outputs": [],
   "source": [
    "boundary_gpd = gpd.read_file(boundary_shapefile)\n",
    "bounds = [str(x) for x in boundary_gpd.geometry.bounds.values[0]]"
   ]
  },
  {
   "cell_type": "markdown",
   "metadata": {},
   "source": [
    "The collection is where we will origanize the downloaded data."
   ]
  },
  {
   "cell_type": "code",
   "execution_count": 5,
   "metadata": {
    "collapsed": true
   },
   "outputs": [],
   "source": [
    "try:\n",
    "    quest.api.new_collection(gssha_model_name)\n",
    "except ValueError as e:\n",
    "    print(e)"
   ]
  },
  {
   "cell_type": "markdown",
   "metadata": {},
   "source": [
    "Download the data. This may take some time."
   ]
  },
  {
   "cell_type": "code",
   "execution_count": 7,
   "metadata": {
    "scrolled": true
   },
   "outputs": [
    {
     "name": "stdout",
     "output_type": "stream",
     "text": [
      "retrieving raster availability from https://www.sciencebase.gov/catalog/items?parentId=4f70aa9fe4b058caae3f8de5&filter=tags%3DIMG&max=1000&fields=webLinks%2Cspatial%2Ctitle&format=json&filter=spatialQuery%3D%7Bwkt%3A%22POLYGON+%28%28-180.0+90.0%2C-180.0+-90.0%2C180.0+-90.0%2C180.0+90.0%2C-180.0+90.0%29%29%22%2Crelation%3A%22intersects%22%7D\n",
      "retrieving raster availability from https://www.sciencebase.gov/catalog/items?filter=tags%3DIMG&filter=spatialQuery%3D%7Bwkt%3A%22POLYGON+%28%28-180.0+90.0%2C-180.0+-90.0%2C180.0+-90.0%2C180.0+90.0%2C-180.0+90.0%29%29%22%2Crelation%3A%22intersects%22%7D&max=1000&format=json&fields=webLinks%2Cspatial%2Ctitle&parentId=4f70aa9fe4b058caae3f8de5&offset=1000\n",
      "... ... .img format raster saved at /home/rdchlads/.local/share/quest/projects/default/vicksburg_south/d9aba68106c44619809f98909268c1e7.img\n",
      "... ... .img format raster saved at /home/rdchlads/.local/share/quest/projects/default/vicksburg_south/dcf62f7b6ef54da588f89edb0fe9d221.img\n"
     ]
    }
   ],
   "source": [
    "elevation_file_path = download_data(elevation_service, bounds, gssha_model_name)"
   ]
  },
  {
   "cell_type": "code",
   "execution_count": 8,
   "metadata": {},
   "outputs": [
    {
     "name": "stdout",
     "output_type": "stream",
     "text": [
      "... ... .tif format raster saved at /home/rdchlads/.local/share/quest/projects/default/vicksburg_south/d8a67562528943b2ad79b1f87e5b06cb.tif\n"
     ]
    }
   ],
   "source": [
    "land_use_file_path = download_data(land_use_service, bounds, gssha_model_name)"
   ]
  },
  {
   "cell_type": "markdown",
   "metadata": {},
   "source": [
    "Use the data to generate a GSSHA model. This may take a minute."
   ]
  },
  {
   "cell_type": "code",
   "execution_count": 16,
   "metadata": {
    "collapsed": true
   },
   "outputs": [],
   "source": [
    "# make the directory for the output\n",
    "try:\n",
    "    os.mkdir(gssha_model_directory)\n",
    "except OSError:\n",
    "    pass\n",
    "\n",
    "# generate GSSHA model files\n",
    "model = GSSHAModel(project_name=gssha_model_name,\n",
    "                   project_directory=gssha_model_directory,\n",
    "                   mask_shapefile=boundary_shapefile,\n",
    "                   elevation_grid_path=elevation_file_path,\n",
    "                   land_use_grid=land_use_file_path,\n",
    "                   land_use_grid_id=land_use_grid_id,\n",
    "                   out_hydrograph_write_frequency=1,\n",
    "                   )\n",
    "\n",
    "# add card for max depth\n",
    "model.project_manager.setCard('FLOOD_GRID',\n",
    "                              '{0}.fgd'.format(gssha_model_name),\n",
    "                              add_quotes=True)\n",
    "# TODO: Add depth grids to simulation\n",
    "# MAP_FREQ, DEPTH\n",
    "\n",
    "# add event for simulation\n",
    "model.set_event(simulation_start=datetime.utcnow(),\n",
    "                simulation_duration=timedelta(seconds=2*60),\n",
    "                rain_intensity=24,\n",
    "                rain_duration=timedelta(seconds=1*60),\n",
    "                )\n",
    "model.write()"
   ]
  }
 ],
 "metadata": {
  "kernelspec": {
   "display_name": "Python 3",
   "language": "python",
   "name": "python3"
  },
  "language_info": {
   "codemirror_mode": {
    "name": "ipython",
    "version": 3
   },
   "file_extension": ".py",
   "mimetype": "text/x-python",
   "name": "python",
   "nbconvert_exporter": "python",
   "pygments_lexer": "ipython3",
   "version": "3.6.1"
  }
 },
 "nbformat": 4,
 "nbformat_minor": 2
}
