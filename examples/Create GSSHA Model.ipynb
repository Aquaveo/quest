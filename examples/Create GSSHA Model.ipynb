{
 "cells": [
  {
   "cell_type": "markdown",
   "metadata": {},
   "source": [
    "# Installation Instructions\n",
    "\n",
    "Clone the repos, install dependencies and install packages terrapin, quest and gsshapy.\n",
    "\n",
    "Note: terrapin isn't used in this example but it will be in future examples...\n",
    "\n",
    "```bash\n",
    "git clone git@public.git.erdc.dren.mil:computational-analysis-and-mechanics/quest.git\n",
    "git clone git@public.git.erdc.dren.mil:computational-analysis-and-mechanics/terrapin.git\n",
    "git clone git@github.com:CI-WATER/gsshapy.git\n",
    "\n",
    "conda env create -n earthsim -f ./terrapin/py3_conda_environment.yml\n",
    "conda env update -n earthsim -f ./quest/py3_conda_environment.yml\n",
    "conda env update -n earthsim -f ./gsshapy/conda_env.yml\n",
    "source activate earthsim\n",
    "\n",
    "cd terrapin\n",
    "python setup.py develop\n",
    "cd ../quest\n",
    "python setup.py develop\n",
    "cd ../gsshapy\n",
    "python setup.py develop\n",
    "```\n"
   ]
  },
  {
   "cell_type": "code",
   "execution_count": 1,
   "metadata": {},
   "outputs": [
    {
     "name": "stderr",
     "output_type": "stream",
     "text": [
      "/Users/rditldp9/miniconda3/envs/earthsim/lib/python3.5/site-packages/xarray/core/formatting.py:16: FutureWarning: The pandas.tslib module is deprecated and will be removed in a future version.\n",
      "  from pandas.tslib import OutOfBoundsDatetime\n"
     ]
    }
   ],
   "source": [
    "from datetime import datetime, timedelta\n",
    "import os\n",
    "\n",
    "import geopandas as gpd\n",
    "from gsshapy.modeling import GSSHAModel\n",
    "import quest"
   ]
  },
  {
   "cell_type": "markdown",
   "metadata": {},
   "source": [
    "Function to automate the downloading process:"
   ]
  },
  {
   "cell_type": "code",
   "execution_count": 2,
   "metadata": {
    "collapsed": true
   },
   "outputs": [],
   "source": [
    "def download_data(service_uri, bounds, collection_name):\n",
    "    \"\"\"\n",
    "    Downloads raster data from source uri and adds to a quest collection.\n",
    "    \n",
    "    If multiple raster tiles are retrieved for the given bounds it calls a quest \n",
    "    filter to merge the tiles into a single raster.\n",
    "    \"\"\"\n",
    "    \n",
    "    # download the features (i.e. locations) and metadata for the given web service\n",
    "    # the first time this is run it will take longer since it downloads \n",
    "    # and caches all metadata for the given service.\n",
    "    features = quest.api.get_features(uris=service_uri,\n",
    "                                      filters={'bbox': bounds},\n",
    "                                      as_dataframe=True,\n",
    "                                      )\n",
    "    \n",
    "    # add the selected features to a quest collection\n",
    "    added_features = quest.api.add_features(collection_name, features)\n",
    "    \n",
    "    # stage the data for download, optional parameters can be provided here \n",
    "    # for certain web services (i.e. date range etc), raster services don't \n",
    "    # typically have any optional parameters.\n",
    "    staged_datasets = quest.api.stage_for_download(uris=added_features)\n",
    "    \n",
    "    # download the staged datasets\n",
    "    quest.api.download_datasets(datasets=staged_datasets)\n",
    "    final_datasets = staged_datasets\n",
    "    \n",
    "    # if more than one raster tile downloaded, merge into a single raster tile\n",
    "    if len(staged_datasets) > 1:\n",
    "        merged_datasets = quest.api.apply_filter(name='raster-merge',\n",
    "                                                 datasets=staged_datasets)\n",
    "        final_datasets = merged_datasets['datasets']\n",
    "        # delete the original individual tiles\n",
    "        quest.api.delete(staged_datasets)\n",
    "\n",
    "    # return file path of final geotiff\n",
    "    downloaded_datasets = quest.api.get_metadata(final_datasets)\n",
    "    downloaded_file_paths = [dataset['file_path'] for dataset\n",
    "                             in downloaded_datasets.values()]\n",
    "    return downloaded_file_paths[0]"
   ]
  },
  {
   "cell_type": "markdown",
   "metadata": {},
   "source": [
    "Parameters to change for the run:"
   ]
  },
  {
   "cell_type": "code",
   "execution_count": 4,
   "metadata": {
    "collapsed": true
   },
   "outputs": [],
   "source": [
    "elevation_service = 'svc://usgs-ned:13-arc-second'\n",
    "land_use_service = 'svc://usgs-nlcd:2011'\n",
    "land_use_grid_id = 'nlcd'\n",
    "base_dir = './' # use local dir for now, assumes notebook is launched from the examples folder\n",
    "boundary_shapefile = os.path.join(base_dir, 'vicksburg_watershed', 'watershed_boundary.shp')\n",
    "gssha_model_name = 'vicksburg_south'\n",
    "gssha_model_directory = os.path.join(base_dir, gssha_model_name)"
   ]
  },
  {
   "cell_type": "markdown",
   "metadata": {},
   "source": [
    "Get the download boundary from the shapefile:"
   ]
  },
  {
   "cell_type": "code",
   "execution_count": 5,
   "metadata": {
    "collapsed": true
   },
   "outputs": [],
   "source": [
    "boundary_gpd = gpd.read_file(boundary_shapefile)\n",
    "bounds = [str(x) for x in boundary_gpd.geometry.bounds.values[0]]"
   ]
  },
  {
   "cell_type": "markdown",
   "metadata": {},
   "source": [
    "The collection is where we will origanize the downloaded data."
   ]
  },
  {
   "cell_type": "code",
   "execution_count": 6,
   "metadata": {
    "collapsed": true
   },
   "outputs": [],
   "source": [
    "try:\n",
    "    quest.api.new_collection(gssha_model_name)\n",
    "except ValueError as e:\n",
    "    print(e)"
   ]
  },
  {
   "cell_type": "markdown",
   "metadata": {},
   "source": [
    "Download the data. This may take some time."
   ]
  },
  {
   "cell_type": "code",
   "execution_count": 7,
   "metadata": {
    "scrolled": true
   },
   "outputs": [
    {
     "name": "stdout",
     "output_type": "stream",
     "text": [
      "retrieving raster availability from https://www.sciencebase.gov/catalog/items?parentId=4f70aa9fe4b058caae3f8de5&filter=tags%3DIMG&max=1000&fields=webLinks%2Cspatial%2Ctitle&format=json&filter=spatialQuery%3D%7Bwkt%3A%22POLYGON+%28%28-180.0+90.0%2C-180.0+-90.0%2C180.0+-90.0%2C180.0+90.0%2C-180.0+90.0%29%29%22%2Crelation%3A%22intersects%22%7D\n",
      "retrieving raster availability from https://www.sciencebase.gov/catalog/items?filter=tags%3DIMG&filter=spatialQuery%3D%7Bwkt%3A%22POLYGON+%28%28-180.0+90.0%2C-180.0+-90.0%2C180.0+-90.0%2C180.0+90.0%2C-180.0+90.0%29%29%22%2Crelation%3A%22intersects%22%7D&max=1000&format=json&fields=webLinks%2Cspatial%2Ctitle&parentId=4f70aa9fe4b058caae3f8de5&offset=1000\n",
      "... ... .img format raster saved at /Users/rditldp9/Library/Application Support/quest/projects/default/vicksburg_south/d5d5580a718d48058392136c78f4f531.img\n",
      "... ... .img format raster saved at /Users/rditldp9/Library/Application Support/quest/projects/default/vicksburg_south/d7f0dd58ad5d4c14aac09e275142c564.img\n"
     ]
    }
   ],
   "source": [
    "elevation_file_path = download_data(elevation_service, bounds, gssha_model_name)"
   ]
  },
  {
   "cell_type": "code",
   "execution_count": 8,
   "metadata": {},
   "outputs": [
    {
     "name": "stdout",
     "output_type": "stream",
     "text": [
      "... ... .tif format raster saved at /Users/rditldp9/Library/Application Support/quest/projects/default/vicksburg_south/d2ffc05b6b3d44d2aacc6dbf351bd8a4.tif\n"
     ]
    }
   ],
   "source": [
    "land_use_file_path = download_data(land_use_service, bounds, gssha_model_name)"
   ]
  },
  {
   "cell_type": "markdown",
   "metadata": {},
   "source": [
    "Use the data to generate a GSSHA model. This may take a minute."
   ]
  },
  {
   "cell_type": "code",
   "execution_count": 9,
   "metadata": {},
   "outputs": [
    {
     "ename": "AttributeError",
     "evalue": "'NoneType' object has no attribute 'GetLayer'",
     "output_type": "error",
     "traceback": [
      "\u001b[0;31m---------------------------------------------------------------------------\u001b[0m",
      "\u001b[0;31mAttributeError\u001b[0m                            Traceback (most recent call last)",
      "\u001b[0;32m<ipython-input-9-73984ac1a39f>\u001b[0m in \u001b[0;36m<module>\u001b[0;34m()\u001b[0m\n\u001b[1;32m     12\u001b[0m                    \u001b[0mland_use_grid\u001b[0m\u001b[0;34m=\u001b[0m\u001b[0mland_use_file_path\u001b[0m\u001b[0;34m,\u001b[0m\u001b[0;34m\u001b[0m\u001b[0m\n\u001b[1;32m     13\u001b[0m                    \u001b[0mland_use_grid_id\u001b[0m\u001b[0;34m=\u001b[0m\u001b[0mland_use_grid_id\u001b[0m\u001b[0;34m,\u001b[0m\u001b[0;34m\u001b[0m\u001b[0m\n\u001b[0;32m---> 14\u001b[0;31m                    \u001b[0mout_hydrograph_write_frequency\u001b[0m\u001b[0;34m=\u001b[0m\u001b[0;36m1\u001b[0m\u001b[0;34m,\u001b[0m\u001b[0;34m\u001b[0m\u001b[0m\n\u001b[0m\u001b[1;32m     15\u001b[0m                    )\n\u001b[1;32m     16\u001b[0m \u001b[0;34m\u001b[0m\u001b[0m\n",
      "\u001b[0;32m/Users/rditldp9/test/gsshapy/gsshapy/modeling/model.py\u001b[0m in \u001b[0;36m__init__\u001b[0;34m(self, project_directory, project_name, mask_shapefile, grid_cell_size, elevation_grid_path, simulation_timestep, out_hydrograph_write_frequency, roughness, land_use_grid, land_use_grid_id, land_use_to_roughness_table, db_session, project_manager)\u001b[0m\n\u001b[1;32m    141\u001b[0m                              .format(grid_cell_size=grid_cell_size))\n\u001b[1;32m    142\u001b[0m \u001b[0;34m\u001b[0m\u001b[0m\n\u001b[0;32m--> 143\u001b[0;31m                 \u001b[0mself\u001b[0m\u001b[0;34m.\u001b[0m\u001b[0mset_mask_from_shapefile\u001b[0m\u001b[0;34m(\u001b[0m\u001b[0mmask_shapefile\u001b[0m\u001b[0;34m,\u001b[0m \u001b[0mgrid_cell_size\u001b[0m\u001b[0;34m)\u001b[0m\u001b[0;34m\u001b[0m\u001b[0m\n\u001b[0m\u001b[1;32m    144\u001b[0m                 \u001b[0mself\u001b[0m\u001b[0;34m.\u001b[0m\u001b[0mset_elevation\u001b[0m\u001b[0;34m(\u001b[0m\u001b[0melevation_grid_path\u001b[0m\u001b[0;34m,\u001b[0m \u001b[0mmask_shapefile\u001b[0m\u001b[0;34m)\u001b[0m\u001b[0;34m\u001b[0m\u001b[0m\n\u001b[1;32m    145\u001b[0m                 self.set_roughness(roughness=roughness,\n",
      "\u001b[0;32m/Users/rditldp9/test/gsshapy/gsshapy/modeling/model.py\u001b[0m in \u001b[0;36mset_mask_from_shapefile\u001b[0;34m(self, shapefile_path, cell_size)\u001b[0m\n\u001b[1;32m    160\u001b[0m         msk_file.generateFromWatershedShapefile(shapefile_path,\n\u001b[1;32m    161\u001b[0m                                                 \u001b[0mcell_size\u001b[0m\u001b[0;34m=\u001b[0m\u001b[0mcell_size\u001b[0m\u001b[0;34m,\u001b[0m\u001b[0;34m\u001b[0m\u001b[0m\n\u001b[0;32m--> 162\u001b[0;31m                                                 \u001b[0mout_raster_path\u001b[0m\u001b[0;34m=\u001b[0m\u001b[0mmask_name\u001b[0m\u001b[0;34m,\u001b[0m\u001b[0;34m\u001b[0m\u001b[0m\n\u001b[0m\u001b[1;32m    163\u001b[0m                                                 )\n\u001b[1;32m    164\u001b[0m \u001b[0;34m\u001b[0m\u001b[0m\n",
      "\u001b[0;32m/Users/rditldp9/test/gsshapy/gsshapy/orm/msk.py\u001b[0m in \u001b[0;36mgenerateFromWatershedShapefile\u001b[0;34m(self, shapefile_path, cell_size, out_raster_path)\u001b[0m\n\u001b[1;32m    115\u001b[0m                                  \u001b[0mas_gdal_grid\u001b[0m\u001b[0;34m=\u001b[0m\u001b[0;32mTrue\u001b[0m\u001b[0;34m,\u001b[0m\u001b[0;34m\u001b[0m\u001b[0m\n\u001b[1;32m    116\u001b[0m                                  \u001b[0mraster_wkt_proj\u001b[0m\u001b[0;34m=\u001b[0m\u001b[0mwkt_projection\u001b[0m\u001b[0;34m,\u001b[0m\u001b[0;34m\u001b[0m\u001b[0m\n\u001b[0;32m--> 117\u001b[0;31m                                  \u001b[0mconvert_to_utm\u001b[0m\u001b[0;34m=\u001b[0m\u001b[0;32mTrue\u001b[0m\u001b[0;34m,\u001b[0m\u001b[0;34m\u001b[0m\u001b[0m\n\u001b[0m\u001b[1;32m    118\u001b[0m                                  )\n\u001b[1;32m    119\u001b[0m \u001b[0;34m\u001b[0m\u001b[0m\n",
      "\u001b[0;32m/Users/rditldp9/miniconda3/envs/earthsim/lib/python3.5/site-packages/gazar-0.0.1-py3.5.egg/gazar/shape.py\u001b[0m in \u001b[0;36mrasterize_shapefile\u001b[0;34m(shapefile_path, out_raster_path, shapefile_attribute, x_cell_size, y_cell_size, x_num_cells, y_num_cells, match_grid, raster_wkt_proj, convert_to_utm, raster_dtype, raster_nodata, as_gdal_grid)\u001b[0m\n\u001b[1;32m    194\u001b[0m     \u001b[0;31m# open the data source\u001b[0m\u001b[0;34m\u001b[0m\u001b[0;34m\u001b[0m\u001b[0m\n\u001b[1;32m    195\u001b[0m     \u001b[0mshapefile\u001b[0m \u001b[0;34m=\u001b[0m \u001b[0mogr\u001b[0m\u001b[0;34m.\u001b[0m\u001b[0mOpen\u001b[0m\u001b[0;34m(\u001b[0m\u001b[0mshapefile_path\u001b[0m\u001b[0;34m)\u001b[0m\u001b[0;34m\u001b[0m\u001b[0m\n\u001b[0;32m--> 196\u001b[0;31m     \u001b[0msource_layer\u001b[0m \u001b[0;34m=\u001b[0m \u001b[0mshapefile\u001b[0m\u001b[0;34m.\u001b[0m\u001b[0mGetLayer\u001b[0m\u001b[0;34m(\u001b[0m\u001b[0;36m0\u001b[0m\u001b[0;34m)\u001b[0m\u001b[0;34m\u001b[0m\u001b[0m\n\u001b[0m\u001b[1;32m    197\u001b[0m \u001b[0;34m\u001b[0m\u001b[0m\n\u001b[1;32m    198\u001b[0m     \u001b[0mx_min\u001b[0m\u001b[0;34m,\u001b[0m \u001b[0mx_max\u001b[0m\u001b[0;34m,\u001b[0m \u001b[0my_min\u001b[0m\u001b[0;34m,\u001b[0m \u001b[0my_max\u001b[0m \u001b[0;34m=\u001b[0m \u001b[0msource_layer\u001b[0m\u001b[0;34m.\u001b[0m\u001b[0mGetExtent\u001b[0m\u001b[0;34m(\u001b[0m\u001b[0;34m)\u001b[0m\u001b[0;34m\u001b[0m\u001b[0m\n",
      "\u001b[0;31mAttributeError\u001b[0m: 'NoneType' object has no attribute 'GetLayer'"
     ]
    }
   ],
   "source": [
    "# make the directory for the output\n",
    "try:\n",
    "    os.mkdir(gssha_model_directory)\n",
    "except OSError:\n",
    "    pass\n",
    "\n",
    "# generate GSSHA model files\n",
    "model = GSSHAModel(project_name=gssha_model_name,\n",
    "                   project_directory=gssha_model_directory,\n",
    "                   mask_shapefile=boundary_shapefile,\n",
    "                   elevation_grid_path=elevation_file_path,\n",
    "                   land_use_grid=land_use_file_path,\n",
    "                   land_use_grid_id=land_use_grid_id,\n",
    "                   out_hydrograph_write_frequency=1,\n",
    "                   )\n",
    "\n",
    "# add card for max depth\n",
    "model.project_manager.setCard('FLOOD_GRID',\n",
    "                              '{0}.fgd'.format(gssha_model_name),\n",
    "                              add_quotes=True)\n",
    "# TODO: Add depth grids to simulation\n",
    "# MAP_FREQ, DEPTH\n",
    "\n",
    "# add event for simulation\n",
    "model.set_event(simulation_start=datetime.utcnow(),\n",
    "                simulation_duration=timedelta(seconds=2*60),\n",
    "                rain_intensity=24,\n",
    "                rain_duration=timedelta(seconds=1*60),\n",
    "                )\n",
    "model.write()"
   ]
  },
  {
   "cell_type": "code",
   "execution_count": null,
   "metadata": {
    "collapsed": true
   },
   "outputs": [],
   "source": []
  }
 ],
 "metadata": {
  "kernelspec": {
   "display_name": "Python 3",
   "language": "python",
   "name": "python3"
  },
  "language_info": {
   "codemirror_mode": {
    "name": "ipython",
    "version": 3
   },
   "file_extension": ".py",
   "mimetype": "text/x-python",
   "name": "python",
   "nbconvert_exporter": "python",
   "pygments_lexer": "ipython3",
   "version": "3.5.3"
  }
 },
 "nbformat": 4,
 "nbformat_minor": 2
}
