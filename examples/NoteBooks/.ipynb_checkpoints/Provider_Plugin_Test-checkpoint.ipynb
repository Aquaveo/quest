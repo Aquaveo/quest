{
 "cells": [
  {
   "cell_type": "code",
   "execution_count": 1,
   "metadata": {},
   "outputs": [],
   "source": [
    "\n",
    "from getpass import getpass\n",
    "from paramnb import Widgets\n",
    "from pprint import pprint\n",
    "import warnings\n",
    "import quest\n",
    "warnings.simplefilter('ignore')"
   ]
  },
  {
   "cell_type": "code",
   "execution_count": 2,
   "metadata": {},
   "outputs": [
    {
     "name": "stdout",
     "output_type": "stream",
     "text": [
      "['cuahsi-hydroshare',\n",
      " 'kitware-girder',\n",
      " 'nasa',\n",
      " 'noaa-coast',\n",
      " 'noaa-ncdc',\n",
      " 'usgs-ned',\n",
      " 'usgs-nlcd',\n",
      " 'usgs-nwis']\n"
     ]
    }
   ],
   "source": [
    "quest_providers = quest.api.get_providers()\n",
    "pprint(quest_providers)\n",
    "# quest_publishers = quest.api.get_publishers()\n",
    "# quest_publishers"
   ]
  },
  {
   "cell_type": "code",
   "execution_count": 3,
   "metadata": {},
   "outputs": [
    {
     "name": "stdout",
     "output_type": "stream",
     "text": [
      "['svc://cuahsi-hydroshare:hs_geo',\n",
      " 'svc://cuahsi-hydroshare:hs_norm',\n",
      " 'svc://nasa:srtm-3-arc-second',\n",
      " 'svc://nasa:srtm-30-arc-second',\n",
      " 'svc://noaa-coast:coops-meteorological',\n",
      " 'svc://noaa-coast:coops-water',\n",
      " 'svc://noaa-coast:ndbc',\n",
      " 'svc://noaa-ncdc:ghcn-daily',\n",
      " 'svc://noaa-ncdc:gsod',\n",
      " 'svc://usgs-ned:1-arc-second',\n",
      " 'svc://usgs-ned:13-arc-second',\n",
      " 'svc://usgs-ned:19-arc-second',\n",
      " 'svc://usgs-ned:alaska-2-arc-second',\n",
      " 'svc://usgs-nlcd:2001',\n",
      " 'svc://usgs-nlcd:2006',\n",
      " 'svc://usgs-nlcd:2011',\n",
      " 'svc://usgs-nwis:dv',\n",
      " 'svc://usgs-nwis:iv']\n",
      "\n",
      "Number of services:  18\n",
      "The one we want:  svc://nasa:srtm-3-arc-second\n"
     ]
    }
   ],
   "source": [
    "quest_services = quest.api.get_services()\n",
    "pprint(quest_services)\n",
    "print(\"\\nNumber of services: \", len(quest_services))\n",
    "print(\"The one we want: \", quest_services[2])"
   ]
  },
  {
   "cell_type": "code",
   "execution_count": null,
   "metadata": {},
   "outputs": [],
   "source": []
  },
  {
   "cell_type": "code",
   "execution_count": 8,
   "metadata": {},
   "outputs": [
    {
     "ename": "TypeError",
     "evalue": "authenticate_me() takes 1 positional argument but 2 were given",
     "output_type": "error",
     "traceback": [
      "\u001b[0;31m---------------------------------------------------------------------------\u001b[0m",
      "\u001b[0;31mTypeError\u001b[0m                                 Traceback (most recent call last)",
      "\u001b[0;32m<ipython-input-8-6b5671dac079>\u001b[0m in \u001b[0;36m<module>\u001b[0;34m()\u001b[0m\n\u001b[0;32m----> 1\u001b[0;31m \u001b[0mquest\u001b[0m\u001b[0;34m.\u001b[0m\u001b[0mapi\u001b[0m\u001b[0;34m.\u001b[0m\u001b[0mauthenticate_provider\u001b[0m\u001b[0;34m(\u001b[0m\u001b[0;34m'cuahsi-hydroshare'\u001b[0m\u001b[0;34m)\u001b[0m\u001b[0;34m\u001b[0m\u001b[0m\n\u001b[0m\u001b[1;32m      2\u001b[0m \u001b[0mstatus\u001b[0m \u001b[0;34m=\u001b[0m \u001b[0mquest\u001b[0m\u001b[0;34m.\u001b[0m\u001b[0mapi\u001b[0m\u001b[0;34m.\u001b[0m\u001b[0mget_auth_status\u001b[0m\u001b[0;34m(\u001b[0m\u001b[0;34m'cuahsi-hydroshare'\u001b[0m\u001b[0;34m)\u001b[0m\u001b[0;34m\u001b[0m\u001b[0m\n\u001b[1;32m      3\u001b[0m \u001b[0mprint\u001b[0m\u001b[0;34m(\u001b[0m\u001b[0;34m'Status: '\u001b[0m\u001b[0;34m,\u001b[0m \u001b[0mstatus\u001b[0m\u001b[0;34m)\u001b[0m\u001b[0;34m\u001b[0m\u001b[0m\n\u001b[1;32m      4\u001b[0m \u001b[0mquest\u001b[0m\u001b[0;34m.\u001b[0m\u001b[0mapi\u001b[0m\u001b[0;34m.\u001b[0m\u001b[0munauthenticate_provider\u001b[0m\u001b[0;34m(\u001b[0m\u001b[0;34m'cuahsi-hydroshare'\u001b[0m\u001b[0;34m)\u001b[0m\u001b[0;34m\u001b[0m\u001b[0m\n\u001b[1;32m      5\u001b[0m \u001b[0mstatus\u001b[0m \u001b[0;34m=\u001b[0m \u001b[0mquest\u001b[0m\u001b[0;34m.\u001b[0m\u001b[0mapi\u001b[0m\u001b[0;34m.\u001b[0m\u001b[0mget_auth_status\u001b[0m\u001b[0;34m(\u001b[0m\u001b[0;34m'cuahsi-hydroshare'\u001b[0m\u001b[0;34m)\u001b[0m\u001b[0;34m\u001b[0m\u001b[0m\n",
      "\u001b[0;32m~/Documents/Quest/quest/quest/api/services.py\u001b[0m in \u001b[0;36mauthenticate_provider\u001b[0;34m(uri, **kwargs)\u001b[0m\n\u001b[1;32m    199\u001b[0m     \"\"\"\n\u001b[1;32m    200\u001b[0m     \u001b[0mdriver\u001b[0m \u001b[0;34m=\u001b[0m \u001b[0mutil\u001b[0m\u001b[0;34m.\u001b[0m\u001b[0mload_providers\u001b[0m\u001b[0;34m(\u001b[0m\u001b[0;34m)\u001b[0m\u001b[0;34m[\u001b[0m\u001b[0muri\u001b[0m\u001b[0;34m]\u001b[0m\u001b[0;34m\u001b[0m\u001b[0m\n\u001b[0;32m--> 201\u001b[0;31m     \u001b[0mdriver\u001b[0m\u001b[0;34m.\u001b[0m\u001b[0mauthenticate_me\u001b[0m\u001b[0;34m(\u001b[0m\u001b[0mkwargs\u001b[0m\u001b[0;34m)\u001b[0m\u001b[0;34m\u001b[0m\u001b[0m\n\u001b[0m\u001b[1;32m    202\u001b[0m \u001b[0;34m\u001b[0m\u001b[0m\n\u001b[1;32m    203\u001b[0m \u001b[0;34m\u001b[0m\u001b[0m\n",
      "\u001b[0;31mTypeError\u001b[0m: authenticate_me() takes 1 positional argument but 2 were given"
     ]
    }
   ],
   "source": [
    "quest.api.authenticate_provider('cuahsi-hydroshare')\n",
    "status = quest.api.get_auth_status('cuahsi-hydroshare')\n",
    "print('Status: ', status)\n",
    "quest.api.unauthenticate_provider('cuahsi-hydroshare')\n",
    "status = quest.api.get_auth_status('cuahsi-hydroshare')\n",
    "print('Status: ', status)"
   ]
  },
  {
   "cell_type": "code",
   "execution_count": null,
   "metadata": {},
   "outputs": [],
   "source": [
    "service_features = quest.api.get_features(quest_services[-1], filters={'bbox': [-91, 32.3, -90.8, 32.34]}) # NWIS\n",
    "# service_features = quest.api.get_features(quest_services[3]) # NASA\n",
    "# service_features = quest.api.get_features(quest_services)\n",
    "service_features"
   ]
  },
  {
   "cell_type": "code",
   "execution_count": null,
   "metadata": {},
   "outputs": [],
   "source": [
    "collection_name = 'demo'\n",
    "if collection_name in quest.api.get_collections():\n",
    "    pass\n",
    "else:\n",
    "    quest.api.new_collection(collection_name)\n",
    "\n",
    "collection_feature = quest.api.add_features('demo', service_features[0])\n",
    "collection_feature"
   ]
  },
  {
   "cell_type": "code",
   "execution_count": null,
   "metadata": {},
   "outputs": [],
   "source": [
    "download_options = quest.api.download_options(collection_feature, fmt='param')[collection_feature[0]]\n",
    "download_options"
   ]
  },
  {
   "cell_type": "code",
   "execution_count": null,
   "metadata": {},
   "outputs": [],
   "source": [
    "Widgets(download_options)"
   ]
  },
  {
   "cell_type": "code",
   "execution_count": null,
   "metadata": {},
   "outputs": [],
   "source": [
    "options = {'parameter':download_options.parameter, \n",
    "           'start': download_options.start, \n",
    "           'end': download_options.end, \n",
    "           'period': download_options.period\n",
    "          }"
   ]
  },
  {
   "cell_type": "code",
   "execution_count": null,
   "metadata": {},
   "outputs": [],
   "source": [
    "staged_id = quest.api.stage_for_download(collection_feature, options=options)\n",
    "staged_id"
   ]
  },
  {
   "cell_type": "code",
   "execution_count": null,
   "metadata": {},
   "outputs": [],
   "source": [
    "quest.api.get_metadata(staged_id)"
   ]
  },
  {
   "cell_type": "code",
   "execution_count": null,
   "metadata": {},
   "outputs": [],
   "source": [
    "quest.api.download_datasets(staged_id)"
   ]
  },
  {
   "cell_type": "code",
   "execution_count": null,
   "metadata": {},
   "outputs": [],
   "source": [
    "quest.api.get_metadata(\"d44009e4fd12420b96f726c73705a758\")"
   ]
  },
  {
   "cell_type": "code",
   "execution_count": null,
   "metadata": {},
   "outputs": [],
   "source": [
    "quest.api.authenticate_provider('cuahsi-hydroshare')"
   ]
  },
  {
   "cell_type": "code",
   "execution_count": null,
   "metadata": {},
   "outputs": [],
   "source": [
    "publish_options = quest.api.get_publish_options('pub://cuahsi-hydroshare:hs_pub', fmt='param')['pub://cuahsi-hydroshare:hs_pub']"
   ]
  },
  {
   "cell_type": "code",
   "execution_count": null,
   "metadata": {},
   "outputs": [],
   "source": [
    "Widgets(publish_options)"
   ]
  },
  {
   "cell_type": "code",
   "execution_count": null,
   "metadata": {},
   "outputs": [],
   "source": [
    "# HydroShare \n",
    "new_publish_options = {'resource_type': publish_options.resource_type,\n",
    "                       'title': publish_options.title,\n",
    "                       'abstract': publish_options.abstract,\n",
    "                       'keywords': publish_options.keywords,\n",
    "                       'dataset': publish_options.dataset}\n",
    "\n",
    "# CKAN\n",
    "# new_publish_options = {'title': publish_options.title,\n",
    "#                        'dataset_name': publish_options.dataset_name,\n",
    "#                        'author': publish_options.author,\n",
    "#                        'author_email': publish_options.author_email,\n",
    "#                        'availability': publish_options.availability,\n",
    "#                        'description': publish_options.description,\n",
    "#                        'type': publish_options.type,\n",
    "#                        'dataset': publish_options.dataset}"
   ]
  },
  {
   "cell_type": "code",
   "execution_count": null,
   "metadata": {},
   "outputs": [],
   "source": [
    "quest.api.publish('pub://cuahsi-hydroshare:hs_pub', **new_publish_options)"
   ]
  },
  {
   "cell_type": "code",
   "execution_count": null,
   "metadata": {},
   "outputs": [],
   "source": [
    "quest.api.unauthenticate_provider('')"
   ]
  },
  {
   "cell_type": "code",
   "execution_count": null,
   "metadata": {},
   "outputs": [],
   "source": []
  }
 ],
 "metadata": {
  "kernelspec": {
   "display_name": "Python 3",
   "language": "python",
   "name": "python3"
  },
  "language_info": {
   "codemirror_mode": {
    "name": "ipython",
    "version": 3
   },
   "file_extension": ".py",
   "mimetype": "text/x-python",
   "name": "python",
   "nbconvert_exporter": "python",
   "pygments_lexer": "ipython3",
   "version": "3.6.5"
  }
 },
 "nbformat": 4,
 "nbformat_minor": 2
}
