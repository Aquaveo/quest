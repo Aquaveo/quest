{
 "cells": [
  {
   "cell_type": "markdown",
   "metadata": {},
   "source": [
    "# Installation Instructions\n",
    "\n",
    "Clone the repos, install dependencies and install packages terrapin, quest and gsshapy.\n",
    "\n",
    "Note: terrapin isn't used in this example but it will be in future examples...\n",
    "\n",
    "```bash\n",
    "git clone git@public.git.erdc.dren.mil:computational-analysis-and-mechanics/quest.git\n",
    "git clone git@public.git.erdc.dren.mil:computational-analysis-and-mechanics/terrapin.git\n",
    "git clone git@github.com:CI-WATER/gsshapy.git\n",
    "\n",
    "conda env create -n earthsim -f ./terrapin/py3_conda_environment.yml\n",
    "conda env update -n earthsim -f ./quest/py3_conda_environment.yml\n",
    "conda env update -n earthsim -f ./gsshapy/conda_env.yml\n",
    "source activate earthsim\n",
    "\n",
    "cd terrapin\n",
    "python setup.py develop\n",
    "cd ../quest\n",
    "python setup.py develop\n",
    "cd ../gsshapy\n",
    "python setup.py develop\n",
    "```\n"
   ]
  },
  {
   "cell_type": "code",
   "execution_count": 41,
   "metadata": {},
   "outputs": [],
   "source": [
    "%matplotlib inline\n",
    "from datetime import datetime, timedelta\n",
    "import os\n",
    "\n",
    "import geopandas as gpd\n",
    "from gsshapy.modeling import GSSHAModel\n",
    "import quest\n",
    "from matplotlib import colors, cm, pyplot as plt\n",
    "from gazar import grid\n",
    "import numpy as np"
   ]
  },
  {
   "cell_type": "markdown",
   "metadata": {},
   "source": [
    "Function to automate the downloading process:"
   ]
  },
  {
   "cell_type": "code",
   "execution_count": 2,
   "metadata": {
    "collapsed": true
   },
   "outputs": [],
   "source": [
    "def download_data(service_uri, bounds, collection_name):\n",
    "    \"\"\"\n",
    "    Downloads raster data from source uri and adds to a quest collection.\n",
    "    \n",
    "    If multiple raster tiles are retrieved for the given bounds it calls a quest \n",
    "    filter to merge the tiles into a single raster.\n",
    "    \n",
    "    Returns quest uid for merged raster\n",
    "    \"\"\"\n",
    "    \n",
    "    # download the features (i.e. locations) and metadata for the given web service\n",
    "    # the first time this is run it will take longer since it downloads \n",
    "    # and caches all metadata for the given service.\n",
    "    features = quest.api.get_features(uris=service_uri,\n",
    "                                      filters={'bbox': bounds},\n",
    "                                      as_dataframe=True,\n",
    "                                      )\n",
    "    \n",
    "    # add the selected features to a quest collection\n",
    "    added_features = quest.api.add_features(collection_name, features)\n",
    "    \n",
    "    # stage the data for download, optional parameters can be provided here \n",
    "    # for certain web services (i.e. date range etc), raster services don't \n",
    "    # typically have any optional parameters.\n",
    "    staged_datasets = quest.api.stage_for_download(uris=added_features)\n",
    "    \n",
    "    # download the staged datasets\n",
    "    quest.api.download_datasets(datasets=staged_datasets)\n",
    "    final_dataset = staged_datasets\n",
    "    \n",
    "    # if more than one raster tile downloaded, merge into a single raster tile\n",
    "    if len(staged_datasets) > 1:\n",
    "        merged_datasets = quest.api.apply_filter(name='raster-merge',\n",
    "                                                 datasets=staged_datasets)\n",
    "        final_dataset = merged_datasets['datasets']\n",
    "        # delete the original individual tiles\n",
    "        quest.api.delete(staged_datasets)\n",
    "\n",
    "    return final_dataset"
   ]
  },
  {
   "cell_type": "markdown",
   "metadata": {},
   "source": [
    "Parameters to change for the run:"
   ]
  },
  {
   "cell_type": "code",
   "execution_count": 3,
   "metadata": {
    "collapsed": true
   },
   "outputs": [],
   "source": [
    "elevation_service = 'svc://usgs-ned:13-arc-second'\n",
    "land_use_service = 'svc://usgs-nlcd:2011'\n",
    "land_use_grid_id = 'nlcd'\n",
    "base_dir = os.getcwd() # path needs to be absolute for gsshapy\n",
    "boundary_shapefile = os.path.join(base_dir, 'vicksburg_watershed', 'watershed_boundary.shp')\n",
    "gssha_model_name = 'vicksburg_south_with_delineation'\n",
    "gssha_model_directory = os.path.join(base_dir, gssha_model_name)"
   ]
  },
  {
   "cell_type": "markdown",
   "metadata": {},
   "source": [
    "Get the download boundary from the shapefile:"
   ]
  },
  {
   "cell_type": "code",
   "execution_count": 4,
   "metadata": {
    "collapsed": true
   },
   "outputs": [],
   "source": [
    "boundary_gpd = gpd.read_file(boundary_shapefile)\n",
    "bounds = [str(x) for x in boundary_gpd.geometry.bounds.values[0]]"
   ]
  },
  {
   "cell_type": "markdown",
   "metadata": {},
   "source": [
    "The collection is where we will origanize the downloaded data."
   ]
  },
  {
   "cell_type": "code",
   "execution_count": 5,
   "metadata": {
    "collapsed": true
   },
   "outputs": [],
   "source": [
    "try:\n",
    "    quest.api.new_collection(gssha_model_name)\n",
    "except ValueError as e:\n",
    "    print(e)"
   ]
  },
  {
   "cell_type": "markdown",
   "metadata": {},
   "source": [
    "Download the data. This may take some time."
   ]
  },
  {
   "cell_type": "code",
   "execution_count": 6,
   "metadata": {
    "scrolled": true
   },
   "outputs": [
    {
     "name": "stdout",
     "output_type": "stream",
     "text": [
      "... ... .img format raster saved at /Users/rditldp9/Library/Application Support/quest/projects/default/vicksburg_south_with_delineation/dbafa80f14634994ae218328525bc5d0.img\n",
      "... ... .img format raster saved at /Users/rditldp9/Library/Application Support/quest/projects/default/vicksburg_south_with_delineation/d131979deb5d4cea84d56dadfaee5738.img\n"
     ]
    }
   ],
   "source": [
    "elevation = download_data(elevation_service, bounds, gssha_model_name)"
   ]
  },
  {
   "cell_type": "code",
   "execution_count": 42,
   "metadata": {
    "collapsed": true
   },
   "outputs": [],
   "source": [
    "def watershed_delineation(elevation, outlet):\n",
    "    # run pit filling algorithm\n",
    "    algorithm = 'go-fill'  # one of ['flats', 'go-fill', 'go-breach']\n",
    "    result = quest.api.apply_filter('raster-fill', datasets=elevation, options={'algorithm': algorithm})\n",
    "    pit_filled = result['datasets'][0]\n",
    "    \n",
    "    # run flow accumulation\n",
    "    algorithm = 'go-d8'  # one of ['d8', 'go-d8', 'go-fd8']\n",
    "    result = quest.api.apply_filter('raster-flow-accumulation', datasets=pit_filled, options={'algorithm': algorithm})\n",
    "    flow_accumulation = result['datasets'][0]\n",
    "    \n",
    "    # generate delineation\n",
    "    result = quest.api.apply_filter('raster-watershed-delineation', datasets=flow_accumulation, \n",
    "                       options={'outlet_points': outlet, 'snap_outlets': 'jenson', 'stream_threshold_pct': 0.1})\n",
    "    return result['features']['watershed'], result['features']['outlet'], flow_accumulation"
   ]
  },
  {
   "cell_type": "code",
   "execution_count": null,
   "metadata": {},
   "outputs": [
    {
     "name": "stdout",
     "output_type": "stream",
     "text": [
      "Setting up go-spatial tool: FillDepressions\n",
      "Running process...\n"
     ]
    }
   ],
   "source": [
    "# use the merged raster to create a shapefile\n",
    "outlet = [(-91.058, 32.0498)]\n",
    "watershed, outlet, flow_accumulation = watershed_delineation(elevation, outlet)"
   ]
  },
  {
   "cell_type": "code",
   "execution_count": 26,
   "metadata": {},
   "outputs": [],
   "source": [
    "## read in flow accumulation\n",
    "# flow_accumulation_file = quest.api.get_metadata(flow_accumulation)[flow_accumulation]['file_path']\n",
    "# flow_accumulation_dataset = grid.GDALGrid(flow_accumulation_file)\n",
    "# flow_accumulation_data = flow_accumulation_dataset.np_array()\n",
    "\n",
    "# max_accumulation = flow_accumulation_data.max()\n",
    "# stream_threshold = max_accumulation * 0.01\n",
    "# rivers = np.ma.masked_where(flow_accumulation_data < stream_threshold, flow_accumulation_data)"
   ]
  },
  {
   "cell_type": "code",
   "execution_count": 37,
   "metadata": {},
   "outputs": [
    {
     "data": {
      "text/plain": [
       "{'collection': 'vicksburg_south_with_delineation',\n",
       " 'created_at': Timestamp('2017-06-09 07:32:04.157852'),\n",
       " 'datatype': 'raster',\n",
       " 'description': 'Raster Filter Applied',\n",
       " 'display_name': 'Created by filter raster-merge',\n",
       " 'feature': 'f01d77139cac4533bf921eee2d96ad69',\n",
       " 'file_format': 'raster-gdal',\n",
       " 'file_path': '/Users/rditldp9/Library/Application Support/quest/projects/default/vicksburg_south_with_delineation/deb7d3a7784043f58e6eaa9ececb154f/deb7d3a7784043f58e6eaa9ececb154f.tif',\n",
       " 'message': '',\n",
       " 'metadata': {},\n",
       " 'name': 'deb7d3a7784043f58e6eaa9ececb154f',\n",
       " 'options': {'dataset': ['d7dc56f3d48946b7926d95d83c8382cc',\n",
       "   'd57fab8941f3466bbe6424313c649224'],\n",
       "  'features': None,\n",
       "  'filter_applied': 'raster-merge',\n",
       "  'filter_options': None},\n",
       " 'parameter': 'elevation',\n",
       " 'source': 'derived',\n",
       " 'status': 'filter applied',\n",
       " 'unit': '',\n",
       " 'updated_at': None,\n",
       " 'visualization_path': ''}"
      ]
     },
     "execution_count": 37,
     "metadata": {},
     "output_type": "execute_result"
    }
   ],
   "source": [
    "quest.api.get_metadata(elevation[0])[elevation[0]]"
   ]
  },
  {
   "cell_type": "code",
   "execution_count": 38,
   "metadata": {},
   "outputs": [
    {
     "ename": "KeyboardInterrupt",
     "evalue": "",
     "output_type": "error",
     "traceback": [
      "\u001b[0;31m---------------------------------------------------------------------------\u001b[0m",
      "\u001b[0;31mKeyboardInterrupt\u001b[0m                         Traceback (most recent call last)",
      "\u001b[0;32m<ipython-input-38-867d1ff50367>\u001b[0m in \u001b[0;36m<module>\u001b[0;34m()\u001b[0m\n\u001b[1;32m      2\u001b[0m \u001b[0mdem_file\u001b[0m \u001b[0;34m=\u001b[0m \u001b[0mquest\u001b[0m\u001b[0;34m.\u001b[0m\u001b[0mapi\u001b[0m\u001b[0;34m.\u001b[0m\u001b[0mget_metadata\u001b[0m\u001b[0;34m(\u001b[0m\u001b[0melevation\u001b[0m\u001b[0;34m[\u001b[0m\u001b[0;36m0\u001b[0m\u001b[0;34m]\u001b[0m\u001b[0;34m)\u001b[0m\u001b[0;34m[\u001b[0m\u001b[0melevation\u001b[0m\u001b[0;34m[\u001b[0m\u001b[0;36m0\u001b[0m\u001b[0;34m]\u001b[0m\u001b[0;34m]\u001b[0m\u001b[0;34m[\u001b[0m\u001b[0;34m'file_path'\u001b[0m\u001b[0;34m]\u001b[0m\u001b[0;34m\u001b[0m\u001b[0m\n\u001b[1;32m      3\u001b[0m \u001b[0mdem\u001b[0m \u001b[0;34m=\u001b[0m \u001b[0mgrid\u001b[0m\u001b[0;34m.\u001b[0m\u001b[0mGDALGrid\u001b[0m\u001b[0;34m(\u001b[0m\u001b[0mdem_file\u001b[0m\u001b[0;34m)\u001b[0m\u001b[0;34m\u001b[0m\u001b[0m\n\u001b[0;32m----> 4\u001b[0;31m \u001b[0mlat\u001b[0m\u001b[0;34m,\u001b[0m \u001b[0mlon\u001b[0m \u001b[0;34m=\u001b[0m \u001b[0mdem\u001b[0m\u001b[0;34m.\u001b[0m\u001b[0mlatlon\u001b[0m\u001b[0;34m\u001b[0m\u001b[0m\n\u001b[0m",
      "\u001b[0;32m/Users/rditldp9/miniconda3/envs/earthsim/lib/python3.5/site-packages/gazar-0.0.1-py3.5.egg/gazar/grid.py\u001b[0m in \u001b[0;36mlatlon\u001b[0;34m(self)\u001b[0m\n\u001b[1;32m    329\u001b[0m             \u001b[0;32mfor\u001b[0m \u001b[0myii\u001b[0m \u001b[0;32min\u001b[0m \u001b[0mrange\u001b[0m\u001b[0;34m(\u001b[0m\u001b[0mself\u001b[0m\u001b[0;34m.\u001b[0m\u001b[0my_size\u001b[0m\u001b[0;34m)\u001b[0m\u001b[0;34m:\u001b[0m\u001b[0;34m\u001b[0m\u001b[0m\n\u001b[1;32m    330\u001b[0m                 \u001b[0mlons_2d\u001b[0m\u001b[0;34m[\u001b[0m\u001b[0myii\u001b[0m\u001b[0;34m,\u001b[0m \u001b[0mxii\u001b[0m\u001b[0;34m]\u001b[0m\u001b[0;34m,\u001b[0m \u001b[0mlats_2d\u001b[0m\u001b[0;34m[\u001b[0m\u001b[0myii\u001b[0m\u001b[0;34m,\u001b[0m \u001b[0mxii\u001b[0m\u001b[0;34m]\u001b[0m \u001b[0;34m=\u001b[0m\u001b[0;31m \u001b[0m\u001b[0;31m\\\u001b[0m\u001b[0;34m\u001b[0m\u001b[0m\n\u001b[0;32m--> 331\u001b[0;31m                     \u001b[0mself\u001b[0m\u001b[0;34m.\u001b[0m\u001b[0mpixel2coord\u001b[0m\u001b[0;34m(\u001b[0m\u001b[0mxii\u001b[0m\u001b[0;34m,\u001b[0m \u001b[0myii\u001b[0m\u001b[0;34m)\u001b[0m\u001b[0;34m\u001b[0m\u001b[0m\n\u001b[0m\u001b[1;32m    332\u001b[0m \u001b[0;34m\u001b[0m\u001b[0m\n\u001b[1;32m    333\u001b[0m         proj_lons, proj_lats = transform(self.proj,\n",
      "\u001b[0;32m/Users/rditldp9/miniconda3/envs/earthsim/lib/python3.5/site-packages/gazar-0.0.1-py3.5.egg/gazar/grid.py\u001b[0m in \u001b[0;36mpixel2coord\u001b[0;34m(self, col, row)\u001b[0m\n\u001b[1;32m    240\u001b[0m \u001b[0;34m\u001b[0m\u001b[0m\n\u001b[1;32m    241\u001b[0m         \"\"\"\n\u001b[0;32m--> 242\u001b[0;31m         \u001b[0;32mif\u001b[0m \u001b[0mcol\u001b[0m \u001b[0;34m>=\u001b[0m \u001b[0mself\u001b[0m\u001b[0;34m.\u001b[0m\u001b[0mx_size\u001b[0m\u001b[0;34m:\u001b[0m\u001b[0;34m\u001b[0m\u001b[0m\n\u001b[0m\u001b[1;32m    243\u001b[0m             \u001b[0;32mraise\u001b[0m \u001b[0mIndexError\u001b[0m\u001b[0;34m(\u001b[0m\u001b[0;34m\"Column index out of bounds...\"\u001b[0m\u001b[0;34m)\u001b[0m\u001b[0;34m\u001b[0m\u001b[0m\n\u001b[1;32m    244\u001b[0m         \u001b[0;32mif\u001b[0m \u001b[0mrow\u001b[0m \u001b[0;34m>=\u001b[0m \u001b[0mself\u001b[0m\u001b[0;34m.\u001b[0m\u001b[0my_size\u001b[0m\u001b[0;34m:\u001b[0m\u001b[0;34m\u001b[0m\u001b[0m\n",
      "\u001b[0;32m/Users/rditldp9/miniconda3/envs/earthsim/lib/python3.5/site-packages/gazar-0.0.1-py3.5.egg/gazar/grid.py\u001b[0m in \u001b[0;36mx_size\u001b[0;34m(self)\u001b[0m\n\u001b[1;32m    143\u001b[0m         \u001b[0;32mreturn\u001b[0m \u001b[0mself\u001b[0m\u001b[0;34m.\u001b[0m\u001b[0mdataset\u001b[0m\u001b[0;34m.\u001b[0m\u001b[0mGetGeoTransform\u001b[0m\u001b[0;34m(\u001b[0m\u001b[0;34m)\u001b[0m\u001b[0;34m\u001b[0m\u001b[0m\n\u001b[1;32m    144\u001b[0m \u001b[0;34m\u001b[0m\u001b[0m\n\u001b[0;32m--> 145\u001b[0;31m     \u001b[0;34m@\u001b[0m\u001b[0mproperty\u001b[0m\u001b[0;34m\u001b[0m\u001b[0m\n\u001b[0m\u001b[1;32m    146\u001b[0m     \u001b[0;32mdef\u001b[0m \u001b[0mx_size\u001b[0m\u001b[0;34m(\u001b[0m\u001b[0mself\u001b[0m\u001b[0;34m)\u001b[0m\u001b[0;34m:\u001b[0m\u001b[0;34m\u001b[0m\u001b[0m\n\u001b[1;32m    147\u001b[0m         \u001b[0;34m\"\"\"int: size of x dimensions\"\"\"\u001b[0m\u001b[0;34m\u001b[0m\u001b[0m\n",
      "\u001b[0;31mKeyboardInterrupt\u001b[0m: "
     ]
    }
   ],
   "source": [
    "# read in elevation data\n",
    "dem_file = quest.api.get_metadata(elevation[0])[elevation[0]]['file_path']\n",
    "dem = grid.GDALGrid(dem_file)\n",
    "lat, lon = dem.latlon"
   ]
  },
  {
   "cell_type": "code",
   "execution_count": 17,
   "metadata": {},
   "outputs": [
    {
     "name": "stdout",
     "output_type": "stream",
     "text": [
      "4.639830471741642e-08 array('d', [-91.05796296330512]) array('d', [32.04981481515537])\n"
     ]
    },
    {
     "data": {
      "image/svg+xml": [
       "<svg xmlns=\"http://www.w3.org/2000/svg\" xmlns:xlink=\"http://www.w3.org/1999/xlink\" width=\"100.0\" height=\"100.0\" viewBox=\"-91.05810159276014 32.049676185700335 0.0002772589100601408 0.0002881921263337972\" preserveAspectRatio=\"xMinYMin meet\"><g transform=\"matrix(1,0,0,-1,0,64.099640563527)\"><path fill-rule=\"evenodd\" fill=\"#66cc99\" stroke=\"#555555\" stroke-width=\"5.763842526675944e-06\" opacity=\"0.6\" d=\"M -91.05800925960139,32.04995370404421 L -91.05809091897768,32.0497248710131 L -91.05787301916284,32.04968685948279 L -91.05783500763253,32.04990475929763 L -91.05800925960139,32.04995370404421 z\" /></g></svg>"
      ],
      "text/plain": [
       "<shapely.geometry.polygon.Polygon at 0x12fabf828>"
      ]
     },
     "execution_count": 17,
     "metadata": {},
     "output_type": "execute_result"
    }
   ],
   "source": [
    "watershed_geometry = quest.api.get_metadata(watershed)[watershed]['geometry']\n",
    "outlet_lon, outlet_lat = quest.api.get_metadata(outlet)[outlet]['geometry'].coords.xy\n",
    "print(watershed_geometry.area, outlet_lon, outlet_lat)\n",
    "watershed_geometry\n"
   ]
  },
  {
   "cell_type": "code",
   "execution_count": 15,
   "metadata": {},
   "outputs": [
    {
     "data": {
      "image/png": "[encoded data removed]",
      "text/plain": [
       "<matplotlib.figure.Figure at 0x12d2b3c50>"
      ]
     },
     "metadata": {},
     "output_type": "display_data"
    },
    {
     "data": {
      "image/png": "[encoded data removed]",
      "text/plain": [
       "<matplotlib.figure.Figure at 0x12d8151d0>"
      ]
     },
     "metadata": {},
     "output_type": "display_data"
    },
    {
     "data": {
      "image/png": "[encoded data removed]",
      "text/plain": [
       "<matplotlib.figure.Figure at 0x12cdc8748>"
      ]
     },
     "metadata": {},
     "output_type": "display_data"
    }
   ],
   "source": [
    "# plot the generated watershed with outlet point\n",
    "watershed_geometry = quest.api.get_metadata(watershed)[watershed]['geometry']\n",
    "outlet_lon, outlet_lat = quest.api.get_metadata(outlet)[outlet]['geometry'].coords.xy\n",
    "\n",
    "import cartopy.crs as ccrs\n",
    "import cartopy.feature as cfeature\n",
    "from cartopy.mpl.gridliner import LONGITUDE_FORMATTER, LATITUDE_FORMATTER\n",
    "from matplotlib import colors, cm, pyplot as plt\n",
    "\n",
    "display_bbox = [float(b) for b in bounds]\n",
    "graticule_spacing = 0.01\n",
    "\n",
    "fig = plt.figure(figsize=(10, 10))\n",
    "ax = plt.axes(projection=ccrs.PlateCarree())\n",
    "ax.set_extent(display_bbox)\n",
    "\n",
    "gl = ax.gridlines(crs=ccrs.PlateCarree(), draw_labels=True,\n",
    "                  linewidth=2, color='gray', alpha=0.5, linestyle='--')\n",
    "gl.xformatter = LONGITUDE_FORMATTER\n",
    "gl.yformatter = LATITUDE_FORMATTER\n",
    "gl.xlabels_top = False\n",
    "\n",
    "#plt.contourf(lon, lat, dem.np_array(), 100, zorder=2, cmap=cm.terrain, transform=ccrs.PlateCarree())\n",
    "#ax.imshow(rivers, cmap=cm.ocean, origin='lower', zorder=3)\n",
    "watershed_shp = cfeature.ShapelyFeature([watershed_geometry], ccrs.PlateCarree())\n",
    "ax.add_feature(watershed_shp, zorder=4, alpha=0.6)\n",
    "ax.scatter(x=outlet_lon, y=outlet_lat, color='red', zorder=5, transform=ccrs.PlateCarree())\n",
    "plt.title(\"Watershed\")\n",
    "plt.show()"
   ]
  },
  {
   "cell_type": "code",
   "execution_count": null,
   "metadata": {
    "collapsed": true
   },
   "outputs": [],
   "source": [
    "land_use_file_path = download_data(land_use_service, bounds, gssha_model_name)"
   ]
  },
  {
   "cell_type": "markdown",
   "metadata": {},
   "source": [
    "Use the data to generate a GSSHA model. This may take a minute."
   ]
  },
  {
   "cell_type": "code",
   "execution_count": null,
   "metadata": {
    "collapsed": true
   },
   "outputs": [],
   "source": [
    "# make the directory for the output\n",
    "try:\n",
    "    os.mkdir(gssha_model_directory)\n",
    "except OSError:\n",
    "    pass\n",
    "\n",
    "# generate GSSHA model files\n",
    "model = GSSHAModel(project_name=gssha_model_name,\n",
    "                   project_directory=gssha_model_directory,\n",
    "                   mask_shapefile=boundary_shapefile,\n",
    "                   elevation_grid_path=elevation_file_path,\n",
    "                   land_use_grid=land_use_file_path,\n",
    "                   land_use_grid_id=land_use_grid_id,\n",
    "                   out_hydrograph_write_frequency=1,\n",
    "                   )\n",
    "\n",
    "# add card for max depth\n",
    "model.project_manager.setCard('FLOOD_GRID',\n",
    "                              '{0}.fgd'.format(gssha_model_name),\n",
    "                              add_quotes=True)\n",
    "# TODO: Add depth grids to simulation\n",
    "# MAP_FREQ, DEPTH\n",
    "\n",
    "# add event for simulation\n",
    "model.set_event(simulation_start=datetime.utcnow(),\n",
    "                simulation_duration=timedelta(seconds=2*60),\n",
    "                rain_intensity=24,\n",
    "                rain_duration=timedelta(seconds=1*60),\n",
    "                )\n",
    "model.write()"
   ]
  },
  {
   "cell_type": "code",
   "execution_count": 13,
   "metadata": {},
   "outputs": [
    {
     "data": {
      "text/plain": [
       "['-91.2291666667', '32.05', '-90.7833333333', '32.3708333333']"
      ]
     },
     "execution_count": 13,
     "metadata": {},
     "output_type": "execute_result"
    }
   ],
   "source": [
    "bounds"
   ]
  },
  {
   "cell_type": "code",
   "execution_count": null,
   "metadata": {
    "collapsed": true
   },
   "outputs": [],
   "source": []
  }
 ],
 "metadata": {
  "kernelspec": {
   "display_name": "Python 3",
   "language": "python",
   "name": "python3"
  },
  "language_info": {
   "codemirror_mode": {
    "name": "ipython",
    "version": 3
   },
   "file_extension": ".py",
   "mimetype": "text/x-python",
   "name": "python",
   "nbconvert_exporter": "python",
   "pygments_lexer": "ipython3",
   "version": "3.5.3"
  }
 },
 "nbformat": 4,
 "nbformat_minor": 2
}
